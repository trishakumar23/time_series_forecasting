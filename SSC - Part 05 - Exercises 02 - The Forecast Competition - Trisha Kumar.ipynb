{
 "cells": [
  {
   "cell_type": "markdown",
   "metadata": {},
   "source": [
    "<div>\n",
    "    <img src=\"images/emlyon.png\" style=\"height:60px; float:left; padding-right:10px; margin-top:5px\" />\n",
    "    <span>\n",
    "        <h1 style=\"padding-bottom:5px;\"> Smart Supply Chain </h1>\n",
    "        <a href=\"https://masters.em-lyon.com/fr/msc-in-data-science-artificial-intelligence-strategy\">[Emlyon]</a> MSc in Data Science & Artificial Intelligence Strategy (DSAIS) <br/>\n",
    "         February 2023, Paris | © Saeed VARASTEH\n",
    "    </span>\n",
    "</div>"
   ]
  },
  {
   "cell_type": "markdown",
   "metadata": {},
   "source": [
    "### Part 05 - Exercises 02 : The Forecast Competition\n",
    "\n",
    "---\n",
    "<img src=\"images/competition.png\" style=\"width:100px; position:absolute; top:-10px; right:0;\"/>\n",
    "\n",
    "__Objective__: Predict three months of item sales at different stores.\n",
    "\n",
    "__Dataset description__\n",
    "\n",
    "You are given a file named `store_sales.csv`:\n",
    "\n",
    "    date - Date\n",
    "    store - Store ID\n",
    "    item - Item ID\n",
    "    sales - Number of items sold at a particular store on a particular date.\n",
    "    \n"
   ]
  },
  {
   "cell_type": "markdown",
   "metadata": {},
   "source": [
    "### Import data and modules"
   ]
  },
  {
   "cell_type": "markdown",
   "metadata": {},
   "source": [
    "#### Import modules"
   ]
  },
  {
   "cell_type": "code",
   "execution_count": 80,
   "metadata": {},
   "outputs": [],
   "source": [
    "import pandas as pd\n",
    "import numpy as np\n",
    "import matplotlib.pyplot as plt\n",
    "plt.style.use('fivethirtyeight')\n",
    "\n",
    "import warnings\n",
    "warnings.filterwarnings(\"ignore\")"
   ]
  },
  {
   "cell_type": "markdown",
   "metadata": {},
   "source": [
    "#### Import data"
   ]
  },
  {
   "cell_type": "code",
   "execution_count": 81,
   "metadata": {},
   "outputs": [
    {
     "name": "stdout",
     "output_type": "stream",
     "text": [
      "(913000, 4)\n"
     ]
    },
    {
     "data": {
      "text/html": [
       "<div>\n",
       "<style scoped>\n",
       "    .dataframe tbody tr th:only-of-type {\n",
       "        vertical-align: middle;\n",
       "    }\n",
       "\n",
       "    .dataframe tbody tr th {\n",
       "        vertical-align: top;\n",
       "    }\n",
       "\n",
       "    .dataframe thead th {\n",
       "        text-align: right;\n",
       "    }\n",
       "</style>\n",
       "<table border=\"1\" class=\"dataframe\">\n",
       "  <thead>\n",
       "    <tr style=\"text-align: right;\">\n",
       "      <th></th>\n",
       "      <th>date</th>\n",
       "      <th>store</th>\n",
       "      <th>item</th>\n",
       "      <th>sales</th>\n",
       "    </tr>\n",
       "  </thead>\n",
       "  <tbody>\n",
       "    <tr>\n",
       "      <th>0</th>\n",
       "      <td>2013-01-01</td>\n",
       "      <td>1</td>\n",
       "      <td>1</td>\n",
       "      <td>13</td>\n",
       "    </tr>\n",
       "    <tr>\n",
       "      <th>1</th>\n",
       "      <td>2013-01-02</td>\n",
       "      <td>1</td>\n",
       "      <td>1</td>\n",
       "      <td>11</td>\n",
       "    </tr>\n",
       "    <tr>\n",
       "      <th>2</th>\n",
       "      <td>2013-01-03</td>\n",
       "      <td>1</td>\n",
       "      <td>1</td>\n",
       "      <td>14</td>\n",
       "    </tr>\n",
       "    <tr>\n",
       "      <th>3</th>\n",
       "      <td>2013-01-04</td>\n",
       "      <td>1</td>\n",
       "      <td>1</td>\n",
       "      <td>13</td>\n",
       "    </tr>\n",
       "    <tr>\n",
       "      <th>4</th>\n",
       "      <td>2013-01-05</td>\n",
       "      <td>1</td>\n",
       "      <td>1</td>\n",
       "      <td>10</td>\n",
       "    </tr>\n",
       "  </tbody>\n",
       "</table>\n",
       "</div>"
      ],
      "text/plain": [
       "         date  store  item  sales\n",
       "0  2013-01-01      1     1     13\n",
       "1  2013-01-02      1     1     11\n",
       "2  2013-01-03      1     1     14\n",
       "3  2013-01-04      1     1     13\n",
       "4  2013-01-05      1     1     10"
      ]
     },
     "execution_count": 81,
     "metadata": {},
     "output_type": "execute_result"
    }
   ],
   "source": [
    "df = pd.read_csv('./data/store/store_sales.csv')\n",
    "print(df.shape)\n",
    "df.head(5)"
   ]
  },
  {
   "cell_type": "markdown",
   "metadata": {},
   "source": [
    "## <span style=\"color:steelblue;\">  Data Exploration  </span>\n"
   ]
  },
  {
   "cell_type": "markdown",
   "metadata": {},
   "source": [
    "#### The data in the sales dataset are from which period?\n",
    "\n",
    "__Hint:__ find the minimum and the maximum of the date.<br/>\n",
    "__Hint:__ do not forget to convert the `date` column into datetime."
   ]
  },
  {
   "cell_type": "code",
   "execution_count": 84,
   "metadata": {},
   "outputs": [],
   "source": [
    "df[\"date\"] = pd.to_datetime(df[\"date\"])"
   ]
  },
  {
   "cell_type": "code",
   "execution_count": 85,
   "metadata": {},
   "outputs": [
    {
     "data": {
      "text/html": [
       "<div>\n",
       "<style scoped>\n",
       "    .dataframe tbody tr th:only-of-type {\n",
       "        vertical-align: middle;\n",
       "    }\n",
       "\n",
       "    .dataframe tbody tr th {\n",
       "        vertical-align: top;\n",
       "    }\n",
       "\n",
       "    .dataframe thead th {\n",
       "        text-align: right;\n",
       "    }\n",
       "</style>\n",
       "<table border=\"1\" class=\"dataframe\">\n",
       "  <thead>\n",
       "    <tr style=\"text-align: right;\">\n",
       "      <th></th>\n",
       "      <th>date</th>\n",
       "      <th>store</th>\n",
       "      <th>item</th>\n",
       "      <th>sales</th>\n",
       "    </tr>\n",
       "  </thead>\n",
       "  <tbody>\n",
       "    <tr>\n",
       "      <th>0</th>\n",
       "      <td>2013-01-01</td>\n",
       "      <td>1</td>\n",
       "      <td>1</td>\n",
       "      <td>13</td>\n",
       "    </tr>\n",
       "    <tr>\n",
       "      <th>1</th>\n",
       "      <td>2013-01-02</td>\n",
       "      <td>1</td>\n",
       "      <td>1</td>\n",
       "      <td>11</td>\n",
       "    </tr>\n",
       "    <tr>\n",
       "      <th>2</th>\n",
       "      <td>2013-01-03</td>\n",
       "      <td>1</td>\n",
       "      <td>1</td>\n",
       "      <td>14</td>\n",
       "    </tr>\n",
       "    <tr>\n",
       "      <th>3</th>\n",
       "      <td>2013-01-04</td>\n",
       "      <td>1</td>\n",
       "      <td>1</td>\n",
       "      <td>13</td>\n",
       "    </tr>\n",
       "    <tr>\n",
       "      <th>4</th>\n",
       "      <td>2013-01-05</td>\n",
       "      <td>1</td>\n",
       "      <td>1</td>\n",
       "      <td>10</td>\n",
       "    </tr>\n",
       "    <tr>\n",
       "      <th>...</th>\n",
       "      <td>...</td>\n",
       "      <td>...</td>\n",
       "      <td>...</td>\n",
       "      <td>...</td>\n",
       "    </tr>\n",
       "    <tr>\n",
       "      <th>912995</th>\n",
       "      <td>2017-12-27</td>\n",
       "      <td>10</td>\n",
       "      <td>50</td>\n",
       "      <td>63</td>\n",
       "    </tr>\n",
       "    <tr>\n",
       "      <th>912996</th>\n",
       "      <td>2017-12-28</td>\n",
       "      <td>10</td>\n",
       "      <td>50</td>\n",
       "      <td>59</td>\n",
       "    </tr>\n",
       "    <tr>\n",
       "      <th>912997</th>\n",
       "      <td>2017-12-29</td>\n",
       "      <td>10</td>\n",
       "      <td>50</td>\n",
       "      <td>74</td>\n",
       "    </tr>\n",
       "    <tr>\n",
       "      <th>912998</th>\n",
       "      <td>2017-12-30</td>\n",
       "      <td>10</td>\n",
       "      <td>50</td>\n",
       "      <td>62</td>\n",
       "    </tr>\n",
       "    <tr>\n",
       "      <th>912999</th>\n",
       "      <td>2017-12-31</td>\n",
       "      <td>10</td>\n",
       "      <td>50</td>\n",
       "      <td>82</td>\n",
       "    </tr>\n",
       "  </tbody>\n",
       "</table>\n",
       "<p>913000 rows × 4 columns</p>\n",
       "</div>"
      ],
      "text/plain": [
       "             date  store  item  sales\n",
       "0      2013-01-01      1     1     13\n",
       "1      2013-01-02      1     1     11\n",
       "2      2013-01-03      1     1     14\n",
       "3      2013-01-04      1     1     13\n",
       "4      2013-01-05      1     1     10\n",
       "...           ...    ...   ...    ...\n",
       "912995 2017-12-27     10    50     63\n",
       "912996 2017-12-28     10    50     59\n",
       "912997 2017-12-29     10    50     74\n",
       "912998 2017-12-30     10    50     62\n",
       "912999 2017-12-31     10    50     82\n",
       "\n",
       "[913000 rows x 4 columns]"
      ]
     },
     "execution_count": 85,
     "metadata": {},
     "output_type": "execute_result"
    }
   ],
   "source": [
    "df"
   ]
  },
  {
   "cell_type": "code",
   "execution_count": 86,
   "metadata": {},
   "outputs": [
    {
     "data": {
      "text/plain": [
       "Timestamp('2013-01-01 00:00:00')"
      ]
     },
     "execution_count": 86,
     "metadata": {},
     "output_type": "execute_result"
    }
   ],
   "source": [
    "sales[\"date\"].min()"
   ]
  },
  {
   "cell_type": "code",
   "execution_count": 87,
   "metadata": {},
   "outputs": [
    {
     "data": {
      "text/plain": [
       "Timestamp('2017-12-31 00:00:00')"
      ]
     },
     "execution_count": 87,
     "metadata": {},
     "output_type": "execute_result"
    }
   ],
   "source": [
    "sales[\"date\"].max()"
   ]
  },
  {
   "cell_type": "markdown",
   "metadata": {},
   "source": [
    "#### How many unique items and stores are in the dataset?"
   ]
  },
  {
   "cell_type": "code",
   "execution_count": 88,
   "metadata": {},
   "outputs": [
    {
     "data": {
      "text/plain": [
       "date     1826\n",
       "store      10\n",
       "item       50\n",
       "sales     213\n",
       "dtype: int64"
      ]
     },
     "execution_count": 88,
     "metadata": {},
     "output_type": "execute_result"
    }
   ],
   "source": [
    "df.nunique()"
   ]
  },
  {
   "cell_type": "code",
   "execution_count": 89,
   "metadata": {},
   "outputs": [
    {
     "data": {
      "text/plain": [
       "50"
      ]
     },
     "execution_count": 89,
     "metadata": {},
     "output_type": "execute_result"
    }
   ],
   "source": [
    "df[\"item\"].nunique()"
   ]
  },
  {
   "cell_type": "code",
   "execution_count": 90,
   "metadata": {},
   "outputs": [
    {
     "data": {
      "text/plain": [
       "10"
      ]
     },
     "execution_count": 90,
     "metadata": {},
     "output_type": "execute_result"
    }
   ],
   "source": [
    "df[\"store\"].nunique()"
   ]
  },
  {
   "cell_type": "markdown",
   "metadata": {},
   "source": [
    "#### Plot average monthly sales for the item_id == 10 at store_id == 1"
   ]
  },
  {
   "cell_type": "code",
   "execution_count": 91,
   "metadata": {},
   "outputs": [
    {
     "data": {
      "image/png": "[encoded data removed]",
      "text/plain": [
       "<Figure size 432x288 with 1 Axes>"
      ]
     },
     "metadata": {},
     "output_type": "display_data"
    }
   ],
   "source": [
    "item_10_1 = sales.loc[ (sales[\"item\"] == 10) & (sales[\"store\"] == 1), [\"date\",\"sales\"]].set_index(\"date\")\n",
    "item_10_1.groupby([item_10_1.index.year,item_10_1.index.month])['sales'].mean().plot();"
   ]
  },
  {
   "cell_type": "code",
   "execution_count": 73,
   "metadata": {},
   "outputs": [
    {
     "data": {
      "text/html": [
       "<div>\n",
       "<style scoped>\n",
       "    .dataframe tbody tr th:only-of-type {\n",
       "        vertical-align: middle;\n",
       "    }\n",
       "\n",
       "    .dataframe tbody tr th {\n",
       "        vertical-align: top;\n",
       "    }\n",
       "\n",
       "    .dataframe thead th {\n",
       "        text-align: right;\n",
       "    }\n",
       "</style>\n",
       "<table border=\"1\" class=\"dataframe\">\n",
       "  <thead>\n",
       "    <tr style=\"text-align: right;\">\n",
       "      <th></th>\n",
       "      <th>date</th>\n",
       "      <th>store</th>\n",
       "      <th>item</th>\n",
       "      <th>sales</th>\n",
       "    </tr>\n",
       "  </thead>\n",
       "  <tbody>\n",
       "    <tr>\n",
       "      <th>0</th>\n",
       "      <td>2013-01-01</td>\n",
       "      <td>1</td>\n",
       "      <td>1</td>\n",
       "      <td>13</td>\n",
       "    </tr>\n",
       "    <tr>\n",
       "      <th>1</th>\n",
       "      <td>2013-01-02</td>\n",
       "      <td>1</td>\n",
       "      <td>1</td>\n",
       "      <td>11</td>\n",
       "    </tr>\n",
       "    <tr>\n",
       "      <th>2</th>\n",
       "      <td>2013-01-03</td>\n",
       "      <td>1</td>\n",
       "      <td>1</td>\n",
       "      <td>14</td>\n",
       "    </tr>\n",
       "    <tr>\n",
       "      <th>3</th>\n",
       "      <td>2013-01-04</td>\n",
       "      <td>1</td>\n",
       "      <td>1</td>\n",
       "      <td>13</td>\n",
       "    </tr>\n",
       "    <tr>\n",
       "      <th>4</th>\n",
       "      <td>2013-01-05</td>\n",
       "      <td>1</td>\n",
       "      <td>1</td>\n",
       "      <td>10</td>\n",
       "    </tr>\n",
       "  </tbody>\n",
       "</table>\n",
       "</div>"
      ],
      "text/plain": [
       "        date  store  item  sales\n",
       "0 2013-01-01      1     1     13\n",
       "1 2013-01-02      1     1     11\n",
       "2 2013-01-03      1     1     14\n",
       "3 2013-01-04      1     1     13\n",
       "4 2013-01-05      1     1     10"
      ]
     },
     "execution_count": 73,
     "metadata": {},
     "output_type": "execute_result"
    }
   ],
   "source": [
    "df.head()"
   ]
  },
  {
   "cell_type": "code",
   "execution_count": 21,
   "metadata": {},
   "outputs": [],
   "source": [
    "# monthly = df.drop(columns = [\"store\",\"item\"])"
   ]
  },
  {
   "cell_type": "code",
   "execution_count": 23,
   "metadata": {},
   "outputs": [],
   "source": [
    "# monthly = monthly.groupby(\"date\").mean()"
   ]
  },
  {
   "cell_type": "code",
   "execution_count": 24,
   "metadata": {},
   "outputs": [
    {
     "data": {
      "text/html": [
       "<div>\n",
       "<style scoped>\n",
       "    .dataframe tbody tr th:only-of-type {\n",
       "        vertical-align: middle;\n",
       "    }\n",
       "\n",
       "    .dataframe tbody tr th {\n",
       "        vertical-align: top;\n",
       "    }\n",
       "\n",
       "    .dataframe thead th {\n",
       "        text-align: right;\n",
       "    }\n",
       "</style>\n",
       "<table border=\"1\" class=\"dataframe\">\n",
       "  <thead>\n",
       "    <tr style=\"text-align: right;\">\n",
       "      <th></th>\n",
       "      <th>sales</th>\n",
       "    </tr>\n",
       "    <tr>\n",
       "      <th>date</th>\n",
       "      <th></th>\n",
       "    </tr>\n",
       "  </thead>\n",
       "  <tbody>\n",
       "    <tr>\n",
       "      <th>2013-01-01</th>\n",
       "      <td>27.392</td>\n",
       "    </tr>\n",
       "    <tr>\n",
       "      <th>2013-01-02</th>\n",
       "      <td>27.356</td>\n",
       "    </tr>\n",
       "    <tr>\n",
       "      <th>2013-01-03</th>\n",
       "      <td>28.976</td>\n",
       "    </tr>\n",
       "    <tr>\n",
       "      <th>2013-01-04</th>\n",
       "      <td>31.354</td>\n",
       "    </tr>\n",
       "    <tr>\n",
       "      <th>2013-01-05</th>\n",
       "      <td>32.474</td>\n",
       "    </tr>\n",
       "    <tr>\n",
       "      <th>...</th>\n",
       "      <td>...</td>\n",
       "    </tr>\n",
       "    <tr>\n",
       "      <th>2017-12-27</th>\n",
       "      <td>40.756</td>\n",
       "    </tr>\n",
       "    <tr>\n",
       "      <th>2017-12-28</th>\n",
       "      <td>43.770</td>\n",
       "    </tr>\n",
       "    <tr>\n",
       "      <th>2017-12-29</th>\n",
       "      <td>47.070</td>\n",
       "    </tr>\n",
       "    <tr>\n",
       "      <th>2017-12-30</th>\n",
       "      <td>49.976</td>\n",
       "    </tr>\n",
       "    <tr>\n",
       "      <th>2017-12-31</th>\n",
       "      <td>52.840</td>\n",
       "    </tr>\n",
       "  </tbody>\n",
       "</table>\n",
       "<p>1826 rows × 1 columns</p>\n",
       "</div>"
      ],
      "text/plain": [
       "             sales\n",
       "date              \n",
       "2013-01-01  27.392\n",
       "2013-01-02  27.356\n",
       "2013-01-03  28.976\n",
       "2013-01-04  31.354\n",
       "2013-01-05  32.474\n",
       "...            ...\n",
       "2017-12-27  40.756\n",
       "2017-12-28  43.770\n",
       "2017-12-29  47.070\n",
       "2017-12-30  49.976\n",
       "2017-12-31  52.840\n",
       "\n",
       "[1826 rows x 1 columns]"
      ]
     },
     "execution_count": 24,
     "metadata": {},
     "output_type": "execute_result"
    }
   ],
   "source": [
    "# monthly"
   ]
  },
  {
   "cell_type": "code",
   "execution_count": 26,
   "metadata": {},
   "outputs": [
    {
     "data": {
      "image/png": "[encoded data removed]",
      "text/plain": [
       "<Figure size 1080x432 with 1 Axes>"
      ]
     },
     "metadata": {},
     "output_type": "display_data"
    }
   ],
   "source": [
    "# fig = plt.figure(figsize=(15, 6))\n",
    "# monthly[\"sales\"].plot(kind=\"line\");"
   ]
  },
  {
   "cell_type": "code",
   "execution_count": 74,
   "metadata": {},
   "outputs": [
    {
     "data": {
      "text/plain": [
       "date     0\n",
       "store    0\n",
       "item     0\n",
       "sales    0\n",
       "dtype: int64"
      ]
     },
     "execution_count": 74,
     "metadata": {},
     "output_type": "execute_result"
    }
   ],
   "source": [
    "df.isnull().sum()"
   ]
  },
  {
   "cell_type": "markdown",
   "metadata": {},
   "source": [
    "---"
   ]
  },
  {
   "cell_type": "markdown",
   "metadata": {},
   "source": [
    "## <span style=\"color:steelblue;\">  Machine Learning for Time Series Forecasting  </span>\n"
   ]
  },
  {
   "cell_type": "markdown",
   "metadata": {},
   "source": [
    "### <span style=\"color:DarkGray;\">  Data preprocessing and Feature engineering  </span>\n",
    "\n",
    "#### Extract some useful features (e.g. lag, rolling mean, datetime) to use in a machine learning model and them to the `sales` DataFrame."
   ]
  },
  {
   "cell_type": "code",
   "execution_count": 97,
   "metadata": {},
   "outputs": [],
   "source": [
    "df.sort_values(by=['date'], axis = 0, inplace=True)"
   ]
  },
  {
   "cell_type": "code",
   "execution_count": 98,
   "metadata": {},
   "outputs": [
    {
     "data": {
      "text/html": [
       "<div>\n",
       "<style scoped>\n",
       "    .dataframe tbody tr th:only-of-type {\n",
       "        vertical-align: middle;\n",
       "    }\n",
       "\n",
       "    .dataframe tbody tr th {\n",
       "        vertical-align: top;\n",
       "    }\n",
       "\n",
       "    .dataframe thead th {\n",
       "        text-align: right;\n",
       "    }\n",
       "</style>\n",
       "<table border=\"1\" class=\"dataframe\">\n",
       "  <thead>\n",
       "    <tr style=\"text-align: right;\">\n",
       "      <th></th>\n",
       "      <th>date</th>\n",
       "      <th>store</th>\n",
       "      <th>item</th>\n",
       "      <th>sales</th>\n",
       "      <th>lag_28</th>\n",
       "    </tr>\n",
       "  </thead>\n",
       "  <tbody>\n",
       "    <tr>\n",
       "      <th>0</th>\n",
       "      <td>2013-01-01</td>\n",
       "      <td>1</td>\n",
       "      <td>1</td>\n",
       "      <td>13</td>\n",
       "      <td>NaN</td>\n",
       "    </tr>\n",
       "    <tr>\n",
       "      <th>211816</th>\n",
       "      <td>2013-01-01</td>\n",
       "      <td>7</td>\n",
       "      <td>12</td>\n",
       "      <td>26</td>\n",
       "      <td>NaN</td>\n",
       "    </tr>\n",
       "    <tr>\n",
       "      <th>832656</th>\n",
       "      <td>2013-01-01</td>\n",
       "      <td>7</td>\n",
       "      <td>46</td>\n",
       "      <td>27</td>\n",
       "      <td>NaN</td>\n",
       "    </tr>\n",
       "    <tr>\n",
       "      <th>213642</th>\n",
       "      <td>2013-01-01</td>\n",
       "      <td>8</td>\n",
       "      <td>12</td>\n",
       "      <td>54</td>\n",
       "      <td>NaN</td>\n",
       "    </tr>\n",
       "    <tr>\n",
       "      <th>215468</th>\n",
       "      <td>2013-01-01</td>\n",
       "      <td>9</td>\n",
       "      <td>12</td>\n",
       "      <td>35</td>\n",
       "      <td>NaN</td>\n",
       "    </tr>\n",
       "  </tbody>\n",
       "</table>\n",
       "</div>"
      ],
      "text/plain": [
       "             date  store  item  sales  lag_28\n",
       "0      2013-01-01      1     1     13     NaN\n",
       "211816 2013-01-01      7    12     26     NaN\n",
       "832656 2013-01-01      7    46     27     NaN\n",
       "213642 2013-01-01      8    12     54     NaN\n",
       "215468 2013-01-01      9    12     35     NaN"
      ]
     },
     "execution_count": 98,
     "metadata": {},
     "output_type": "execute_result"
    }
   ],
   "source": [
    "df.head()"
   ]
  },
  {
   "cell_type": "code",
   "execution_count": 93,
   "metadata": {},
   "outputs": [
    {
     "data": {
      "text/plain": [
       "date     datetime64[ns]\n",
       "store             int64\n",
       "item              int64\n",
       "sales             int64\n",
       "dtype: object"
      ]
     },
     "execution_count": 93,
     "metadata": {},
     "output_type": "execute_result"
    }
   ],
   "source": [
    "df.dtypes"
   ]
  },
  {
   "cell_type": "code",
   "execution_count": 94,
   "metadata": {},
   "outputs": [
    {
     "data": {
      "text/plain": [
       "(913000, 4)"
      ]
     },
     "execution_count": 94,
     "metadata": {},
     "output_type": "execute_result"
    }
   ],
   "source": [
    "df.shape"
   ]
  },
  {
   "cell_type": "code",
   "execution_count": 100,
   "metadata": {},
   "outputs": [],
   "source": [
    "df[\"lag_28\"] = df[[\"store\", \"item\", \"sales\"]].groupby([\"store\", \"item\"])[\"sales\"].shift(28)"
   ]
  },
  {
   "cell_type": "code",
   "execution_count": 103,
   "metadata": {},
   "outputs": [
    {
     "data": {
      "text/html": [
       "<div>\n",
       "<style scoped>\n",
       "    .dataframe tbody tr th:only-of-type {\n",
       "        vertical-align: middle;\n",
       "    }\n",
       "\n",
       "    .dataframe tbody tr th {\n",
       "        vertical-align: top;\n",
       "    }\n",
       "\n",
       "    .dataframe thead th {\n",
       "        text-align: right;\n",
       "    }\n",
       "</style>\n",
       "<table border=\"1\" class=\"dataframe\">\n",
       "  <thead>\n",
       "    <tr style=\"text-align: right;\">\n",
       "      <th></th>\n",
       "      <th>date</th>\n",
       "      <th>store</th>\n",
       "      <th>item</th>\n",
       "      <th>sales</th>\n",
       "      <th>lag_28</th>\n",
       "    </tr>\n",
       "  </thead>\n",
       "  <tbody>\n",
       "    <tr>\n",
       "      <th>0</th>\n",
       "      <td>2013-01-01</td>\n",
       "      <td>1</td>\n",
       "      <td>1</td>\n",
       "      <td>13</td>\n",
       "      <td>NaN</td>\n",
       "    </tr>\n",
       "    <tr>\n",
       "      <th>211816</th>\n",
       "      <td>2013-01-01</td>\n",
       "      <td>7</td>\n",
       "      <td>12</td>\n",
       "      <td>26</td>\n",
       "      <td>NaN</td>\n",
       "    </tr>\n",
       "    <tr>\n",
       "      <th>832656</th>\n",
       "      <td>2013-01-01</td>\n",
       "      <td>7</td>\n",
       "      <td>46</td>\n",
       "      <td>27</td>\n",
       "      <td>NaN</td>\n",
       "    </tr>\n",
       "    <tr>\n",
       "      <th>213642</th>\n",
       "      <td>2013-01-01</td>\n",
       "      <td>8</td>\n",
       "      <td>12</td>\n",
       "      <td>54</td>\n",
       "      <td>NaN</td>\n",
       "    </tr>\n",
       "    <tr>\n",
       "      <th>215468</th>\n",
       "      <td>2013-01-01</td>\n",
       "      <td>9</td>\n",
       "      <td>12</td>\n",
       "      <td>35</td>\n",
       "      <td>NaN</td>\n",
       "    </tr>\n",
       "    <tr>\n",
       "      <th>...</th>\n",
       "      <td>...</td>\n",
       "      <td>...</td>\n",
       "      <td>...</td>\n",
       "      <td>...</td>\n",
       "      <td>...</td>\n",
       "    </tr>\n",
       "    <tr>\n",
       "      <th>619013</th>\n",
       "      <td>2017-12-31</td>\n",
       "      <td>9</td>\n",
       "      <td>34</td>\n",
       "      <td>21</td>\n",
       "      <td>32.0</td>\n",
       "    </tr>\n",
       "    <tr>\n",
       "      <th>620839</th>\n",
       "      <td>2017-12-31</td>\n",
       "      <td>10</td>\n",
       "      <td>34</td>\n",
       "      <td>32</td>\n",
       "      <td>28.0</td>\n",
       "    </tr>\n",
       "    <tr>\n",
       "      <th>622665</th>\n",
       "      <td>2017-12-31</td>\n",
       "      <td>1</td>\n",
       "      <td>35</td>\n",
       "      <td>55</td>\n",
       "      <td>55.0</td>\n",
       "    </tr>\n",
       "    <tr>\n",
       "      <th>598927</th>\n",
       "      <td>2017-12-31</td>\n",
       "      <td>8</td>\n",
       "      <td>33</td>\n",
       "      <td>100</td>\n",
       "      <td>95.0</td>\n",
       "    </tr>\n",
       "    <tr>\n",
       "      <th>912999</th>\n",
       "      <td>2017-12-31</td>\n",
       "      <td>10</td>\n",
       "      <td>50</td>\n",
       "      <td>82</td>\n",
       "      <td>75.0</td>\n",
       "    </tr>\n",
       "  </tbody>\n",
       "</table>\n",
       "<p>913000 rows × 5 columns</p>\n",
       "</div>"
      ],
      "text/plain": [
       "             date  store  item  sales  lag_28\n",
       "0      2013-01-01      1     1     13     NaN\n",
       "211816 2013-01-01      7    12     26     NaN\n",
       "832656 2013-01-01      7    46     27     NaN\n",
       "213642 2013-01-01      8    12     54     NaN\n",
       "215468 2013-01-01      9    12     35     NaN\n",
       "...           ...    ...   ...    ...     ...\n",
       "619013 2017-12-31      9    34     21    32.0\n",
       "620839 2017-12-31     10    34     32    28.0\n",
       "622665 2017-12-31      1    35     55    55.0\n",
       "598927 2017-12-31      8    33    100    95.0\n",
       "912999 2017-12-31     10    50     82    75.0\n",
       "\n",
       "[913000 rows x 5 columns]"
      ]
     },
     "execution_count": 103,
     "metadata": {},
     "output_type": "execute_result"
    }
   ],
   "source": [
    "df"
   ]
  },
  {
   "cell_type": "code",
   "execution_count": null,
   "metadata": {},
   "outputs": [],
   "source": [
    " ca_sales[\"rmean_7\"] = ca_sales[[\"id\", \"sales\"]].groupby(\"id\")[\"sales\"].transform(lambda x : x.rolling(7).mean())"
   ]
  },
  {
   "cell_type": "code",
   "execution_count": 105,
   "metadata": {},
   "outputs": [
    {
     "data": {
      "text/html": [
       "<div>\n",
       "<style scoped>\n",
       "    .dataframe tbody tr th:only-of-type {\n",
       "        vertical-align: middle;\n",
       "    }\n",
       "\n",
       "    .dataframe tbody tr th {\n",
       "        vertical-align: top;\n",
       "    }\n",
       "\n",
       "    .dataframe thead th {\n",
       "        text-align: right;\n",
       "    }\n",
       "</style>\n",
       "<table border=\"1\" class=\"dataframe\">\n",
       "  <thead>\n",
       "    <tr style=\"text-align: right;\">\n",
       "      <th></th>\n",
       "      <th>date</th>\n",
       "      <th>store</th>\n",
       "      <th>item</th>\n",
       "      <th>sales</th>\n",
       "      <th>lag_28</th>\n",
       "    </tr>\n",
       "  </thead>\n",
       "  <tbody>\n",
       "    <tr>\n",
       "      <th>0</th>\n",
       "      <td>2013-01-01</td>\n",
       "      <td>1</td>\n",
       "      <td>1</td>\n",
       "      <td>13</td>\n",
       "      <td>NaN</td>\n",
       "    </tr>\n",
       "    <tr>\n",
       "      <th>211816</th>\n",
       "      <td>2013-01-01</td>\n",
       "      <td>7</td>\n",
       "      <td>12</td>\n",
       "      <td>26</td>\n",
       "      <td>NaN</td>\n",
       "    </tr>\n",
       "    <tr>\n",
       "      <th>832656</th>\n",
       "      <td>2013-01-01</td>\n",
       "      <td>7</td>\n",
       "      <td>46</td>\n",
       "      <td>27</td>\n",
       "      <td>NaN</td>\n",
       "    </tr>\n",
       "    <tr>\n",
       "      <th>213642</th>\n",
       "      <td>2013-01-01</td>\n",
       "      <td>8</td>\n",
       "      <td>12</td>\n",
       "      <td>54</td>\n",
       "      <td>NaN</td>\n",
       "    </tr>\n",
       "    <tr>\n",
       "      <th>215468</th>\n",
       "      <td>2013-01-01</td>\n",
       "      <td>9</td>\n",
       "      <td>12</td>\n",
       "      <td>35</td>\n",
       "      <td>NaN</td>\n",
       "    </tr>\n",
       "    <tr>\n",
       "      <th>...</th>\n",
       "      <td>...</td>\n",
       "      <td>...</td>\n",
       "      <td>...</td>\n",
       "      <td>...</td>\n",
       "      <td>...</td>\n",
       "    </tr>\n",
       "    <tr>\n",
       "      <th>619013</th>\n",
       "      <td>2017-12-31</td>\n",
       "      <td>9</td>\n",
       "      <td>34</td>\n",
       "      <td>21</td>\n",
       "      <td>32.0</td>\n",
       "    </tr>\n",
       "    <tr>\n",
       "      <th>620839</th>\n",
       "      <td>2017-12-31</td>\n",
       "      <td>10</td>\n",
       "      <td>34</td>\n",
       "      <td>32</td>\n",
       "      <td>28.0</td>\n",
       "    </tr>\n",
       "    <tr>\n",
       "      <th>622665</th>\n",
       "      <td>2017-12-31</td>\n",
       "      <td>1</td>\n",
       "      <td>35</td>\n",
       "      <td>55</td>\n",
       "      <td>55.0</td>\n",
       "    </tr>\n",
       "    <tr>\n",
       "      <th>598927</th>\n",
       "      <td>2017-12-31</td>\n",
       "      <td>8</td>\n",
       "      <td>33</td>\n",
       "      <td>100</td>\n",
       "      <td>95.0</td>\n",
       "    </tr>\n",
       "    <tr>\n",
       "      <th>912999</th>\n",
       "      <td>2017-12-31</td>\n",
       "      <td>10</td>\n",
       "      <td>50</td>\n",
       "      <td>82</td>\n",
       "      <td>75.0</td>\n",
       "    </tr>\n",
       "  </tbody>\n",
       "</table>\n",
       "<p>913000 rows × 5 columns</p>\n",
       "</div>"
      ],
      "text/plain": [
       "             date  store  item  sales  lag_28\n",
       "0      2013-01-01      1     1     13     NaN\n",
       "211816 2013-01-01      7    12     26     NaN\n",
       "832656 2013-01-01      7    46     27     NaN\n",
       "213642 2013-01-01      8    12     54     NaN\n",
       "215468 2013-01-01      9    12     35     NaN\n",
       "...           ...    ...   ...    ...     ...\n",
       "619013 2017-12-31      9    34     21    32.0\n",
       "620839 2017-12-31     10    34     32    28.0\n",
       "622665 2017-12-31      1    35     55    55.0\n",
       "598927 2017-12-31      8    33    100    95.0\n",
       "912999 2017-12-31     10    50     82    75.0\n",
       "\n",
       "[913000 rows x 5 columns]"
      ]
     },
     "execution_count": 105,
     "metadata": {},
     "output_type": "execute_result"
    }
   ],
   "source": [
    "df"
   ]
  },
  {
   "cell_type": "code",
   "execution_count": 107,
   "metadata": {},
   "outputs": [],
   "source": [
    "df[\"rmean_7\"] = df[[\"store\", \"item\", \"sales\"]].groupby([\"store\", \"item\"])[\"sales\"].transform(lambda x : x.rolling(7).mean())"
   ]
  },
  {
   "cell_type": "code",
   "execution_count": 110,
   "metadata": {},
   "outputs": [
    {
     "data": {
      "text/html": [
       "<div>\n",
       "<style scoped>\n",
       "    .dataframe tbody tr th:only-of-type {\n",
       "        vertical-align: middle;\n",
       "    }\n",
       "\n",
       "    .dataframe tbody tr th {\n",
       "        vertical-align: top;\n",
       "    }\n",
       "\n",
       "    .dataframe thead th {\n",
       "        text-align: right;\n",
       "    }\n",
       "</style>\n",
       "<table border=\"1\" class=\"dataframe\">\n",
       "  <thead>\n",
       "    <tr style=\"text-align: right;\">\n",
       "      <th></th>\n",
       "      <th>date</th>\n",
       "      <th>store</th>\n",
       "      <th>item</th>\n",
       "      <th>sales</th>\n",
       "      <th>lag_28</th>\n",
       "      <th>rmean_7</th>\n",
       "    </tr>\n",
       "  </thead>\n",
       "  <tbody>\n",
       "    <tr>\n",
       "      <th>0</th>\n",
       "      <td>2013-01-01</td>\n",
       "      <td>1</td>\n",
       "      <td>1</td>\n",
       "      <td>13</td>\n",
       "      <td>NaN</td>\n",
       "      <td>NaN</td>\n",
       "    </tr>\n",
       "    <tr>\n",
       "      <th>211816</th>\n",
       "      <td>2013-01-01</td>\n",
       "      <td>7</td>\n",
       "      <td>12</td>\n",
       "      <td>26</td>\n",
       "      <td>NaN</td>\n",
       "      <td>NaN</td>\n",
       "    </tr>\n",
       "    <tr>\n",
       "      <th>832656</th>\n",
       "      <td>2013-01-01</td>\n",
       "      <td>7</td>\n",
       "      <td>46</td>\n",
       "      <td>27</td>\n",
       "      <td>NaN</td>\n",
       "      <td>NaN</td>\n",
       "    </tr>\n",
       "    <tr>\n",
       "      <th>213642</th>\n",
       "      <td>2013-01-01</td>\n",
       "      <td>8</td>\n",
       "      <td>12</td>\n",
       "      <td>54</td>\n",
       "      <td>NaN</td>\n",
       "      <td>NaN</td>\n",
       "    </tr>\n",
       "    <tr>\n",
       "      <th>215468</th>\n",
       "      <td>2013-01-01</td>\n",
       "      <td>9</td>\n",
       "      <td>12</td>\n",
       "      <td>35</td>\n",
       "      <td>NaN</td>\n",
       "      <td>NaN</td>\n",
       "    </tr>\n",
       "    <tr>\n",
       "      <th>...</th>\n",
       "      <td>...</td>\n",
       "      <td>...</td>\n",
       "      <td>...</td>\n",
       "      <td>...</td>\n",
       "      <td>...</td>\n",
       "      <td>...</td>\n",
       "    </tr>\n",
       "    <tr>\n",
       "      <th>619013</th>\n",
       "      <td>2017-12-31</td>\n",
       "      <td>9</td>\n",
       "      <td>34</td>\n",
       "      <td>21</td>\n",
       "      <td>32.0</td>\n",
       "      <td>20.714286</td>\n",
       "    </tr>\n",
       "    <tr>\n",
       "      <th>620839</th>\n",
       "      <td>2017-12-31</td>\n",
       "      <td>10</td>\n",
       "      <td>34</td>\n",
       "      <td>32</td>\n",
       "      <td>28.0</td>\n",
       "      <td>23.571429</td>\n",
       "    </tr>\n",
       "    <tr>\n",
       "      <th>622665</th>\n",
       "      <td>2017-12-31</td>\n",
       "      <td>1</td>\n",
       "      <td>35</td>\n",
       "      <td>55</td>\n",
       "      <td>55.0</td>\n",
       "      <td>52.285714</td>\n",
       "    </tr>\n",
       "    <tr>\n",
       "      <th>598927</th>\n",
       "      <td>2017-12-31</td>\n",
       "      <td>8</td>\n",
       "      <td>33</td>\n",
       "      <td>100</td>\n",
       "      <td>95.0</td>\n",
       "      <td>69.142857</td>\n",
       "    </tr>\n",
       "    <tr>\n",
       "      <th>912999</th>\n",
       "      <td>2017-12-31</td>\n",
       "      <td>10</td>\n",
       "      <td>50</td>\n",
       "      <td>82</td>\n",
       "      <td>75.0</td>\n",
       "      <td>61.714286</td>\n",
       "    </tr>\n",
       "  </tbody>\n",
       "</table>\n",
       "<p>913000 rows × 6 columns</p>\n",
       "</div>"
      ],
      "text/plain": [
       "             date  store  item  sales  lag_28    rmean_7\n",
       "0      2013-01-01      1     1     13     NaN        NaN\n",
       "211816 2013-01-01      7    12     26     NaN        NaN\n",
       "832656 2013-01-01      7    46     27     NaN        NaN\n",
       "213642 2013-01-01      8    12     54     NaN        NaN\n",
       "215468 2013-01-01      9    12     35     NaN        NaN\n",
       "...           ...    ...   ...    ...     ...        ...\n",
       "619013 2017-12-31      9    34     21    32.0  20.714286\n",
       "620839 2017-12-31     10    34     32    28.0  23.571429\n",
       "622665 2017-12-31      1    35     55    55.0  52.285714\n",
       "598927 2017-12-31      8    33    100    95.0  69.142857\n",
       "912999 2017-12-31     10    50     82    75.0  61.714286\n",
       "\n",
       "[913000 rows x 6 columns]"
      ]
     },
     "execution_count": 110,
     "metadata": {},
     "output_type": "execute_result"
    }
   ],
   "source": [
    "df"
   ]
  },
  {
   "cell_type": "code",
   "execution_count": 112,
   "metadata": {},
   "outputs": [],
   "source": [
    "df[\"rmean_28_7\"] = df[[\"store\", \"item\", \"lag_28\"]].groupby(\"store\")[\"lag_28\"].transform(lambda x : x.rolling(7).mean())"
   ]
  },
  {
   "cell_type": "code",
   "execution_count": 172,
   "metadata": {},
   "outputs": [],
   "source": [
    "mean_price = df[[\"store\", \"item\",\"sales\"]].groupby(\"store\")[\"sales\"].transform(lambda x : x.rolling(7).mean())"
   ]
  },
  {
   "cell_type": "code",
   "execution_count": 174,
   "metadata": {},
   "outputs": [],
   "source": [
    "df[\"price_mad\"] = (df[\"sales\"] - mean_price) / mean_price"
   ]
  },
  {
   "cell_type": "code",
   "execution_count": 175,
   "metadata": {},
   "outputs": [
    {
     "data": {
      "text/html": [
       "<div>\n",
       "<style scoped>\n",
       "    .dataframe tbody tr th:only-of-type {\n",
       "        vertical-align: middle;\n",
       "    }\n",
       "\n",
       "    .dataframe tbody tr th {\n",
       "        vertical-align: top;\n",
       "    }\n",
       "\n",
       "    .dataframe thead th {\n",
       "        text-align: right;\n",
       "    }\n",
       "</style>\n",
       "<table border=\"1\" class=\"dataframe\">\n",
       "  <thead>\n",
       "    <tr style=\"text-align: right;\">\n",
       "      <th></th>\n",
       "      <th>date</th>\n",
       "      <th>store</th>\n",
       "      <th>item</th>\n",
       "      <th>sales</th>\n",
       "      <th>lag_28</th>\n",
       "      <th>rmean_7</th>\n",
       "      <th>rmean_28_7</th>\n",
       "      <th>price_mad</th>\n",
       "    </tr>\n",
       "  </thead>\n",
       "  <tbody>\n",
       "    <tr>\n",
       "      <th>671996</th>\n",
       "      <td>2013-01-29</td>\n",
       "      <td>9</td>\n",
       "      <td>37</td>\n",
       "      <td>16</td>\n",
       "      <td>22.0</td>\n",
       "      <td>16.714286</td>\n",
       "      <td>22.428571</td>\n",
       "      <td>NaN</td>\n",
       "    </tr>\n",
       "    <tr>\n",
       "      <th>836336</th>\n",
       "      <td>2013-01-29</td>\n",
       "      <td>9</td>\n",
       "      <td>46</td>\n",
       "      <td>32</td>\n",
       "      <td>34.0</td>\n",
       "      <td>35.857143</td>\n",
       "      <td>24.285714</td>\n",
       "      <td>NaN</td>\n",
       "    </tr>\n",
       "    <tr>\n",
       "      <th>701212</th>\n",
       "      <td>2013-01-29</td>\n",
       "      <td>5</td>\n",
       "      <td>39</td>\n",
       "      <td>23</td>\n",
       "      <td>20.0</td>\n",
       "      <td>16.285714</td>\n",
       "      <td>23.285714</td>\n",
       "      <td>NaN</td>\n",
       "    </tr>\n",
       "    <tr>\n",
       "      <th>522264</th>\n",
       "      <td>2013-01-29</td>\n",
       "      <td>7</td>\n",
       "      <td>29</td>\n",
       "      <td>26</td>\n",
       "      <td>27.0</td>\n",
       "      <td>27.142857</td>\n",
       "      <td>20.714286</td>\n",
       "      <td>NaN</td>\n",
       "    </tr>\n",
       "    <tr>\n",
       "      <th>339664</th>\n",
       "      <td>2013-01-29</td>\n",
       "      <td>7</td>\n",
       "      <td>19</td>\n",
       "      <td>16</td>\n",
       "      <td>6.0</td>\n",
       "      <td>17.285714</td>\n",
       "      <td>18.142857</td>\n",
       "      <td>NaN</td>\n",
       "    </tr>\n",
       "    <tr>\n",
       "      <th>...</th>\n",
       "      <td>...</td>\n",
       "      <td>...</td>\n",
       "      <td>...</td>\n",
       "      <td>...</td>\n",
       "      <td>...</td>\n",
       "      <td>...</td>\n",
       "      <td>...</td>\n",
       "      <td>...</td>\n",
       "    </tr>\n",
       "    <tr>\n",
       "      <th>619013</th>\n",
       "      <td>2017-12-31</td>\n",
       "      <td>9</td>\n",
       "      <td>34</td>\n",
       "      <td>21</td>\n",
       "      <td>32.0</td>\n",
       "      <td>20.714286</td>\n",
       "      <td>56.571429</td>\n",
       "      <td>-0.568915</td>\n",
       "    </tr>\n",
       "    <tr>\n",
       "      <th>620839</th>\n",
       "      <td>2017-12-31</td>\n",
       "      <td>10</td>\n",
       "      <td>34</td>\n",
       "      <td>32</td>\n",
       "      <td>28.0</td>\n",
       "      <td>23.571429</td>\n",
       "      <td>64.428571</td>\n",
       "      <td>-0.487414</td>\n",
       "    </tr>\n",
       "    <tr>\n",
       "      <th>622665</th>\n",
       "      <td>2017-12-31</td>\n",
       "      <td>1</td>\n",
       "      <td>35</td>\n",
       "      <td>55</td>\n",
       "      <td>55.0</td>\n",
       "      <td>52.285714</td>\n",
       "      <td>51.142857</td>\n",
       "      <td>0.049046</td>\n",
       "    </tr>\n",
       "    <tr>\n",
       "      <th>598927</th>\n",
       "      <td>2017-12-31</td>\n",
       "      <td>8</td>\n",
       "      <td>33</td>\n",
       "      <td>100</td>\n",
       "      <td>95.0</td>\n",
       "      <td>69.142857</td>\n",
       "      <td>71.571429</td>\n",
       "      <td>0.380671</td>\n",
       "    </tr>\n",
       "    <tr>\n",
       "      <th>912999</th>\n",
       "      <td>2017-12-31</td>\n",
       "      <td>10</td>\n",
       "      <td>50</td>\n",
       "      <td>82</td>\n",
       "      <td>75.0</td>\n",
       "      <td>61.714286</td>\n",
       "      <td>60.000000</td>\n",
       "      <td>0.360190</td>\n",
       "    </tr>\n",
       "  </tbody>\n",
       "</table>\n",
       "<p>898940 rows × 8 columns</p>\n",
       "</div>"
      ],
      "text/plain": [
       "             date  store  item  sales  lag_28    rmean_7  rmean_28_7  \\\n",
       "671996 2013-01-29      9    37     16    22.0  16.714286   22.428571   \n",
       "836336 2013-01-29      9    46     32    34.0  35.857143   24.285714   \n",
       "701212 2013-01-29      5    39     23    20.0  16.285714   23.285714   \n",
       "522264 2013-01-29      7    29     26    27.0  27.142857   20.714286   \n",
       "339664 2013-01-29      7    19     16     6.0  17.285714   18.142857   \n",
       "...           ...    ...   ...    ...     ...        ...         ...   \n",
       "619013 2017-12-31      9    34     21    32.0  20.714286   56.571429   \n",
       "620839 2017-12-31     10    34     32    28.0  23.571429   64.428571   \n",
       "622665 2017-12-31      1    35     55    55.0  52.285714   51.142857   \n",
       "598927 2017-12-31      8    33    100    95.0  69.142857   71.571429   \n",
       "912999 2017-12-31     10    50     82    75.0  61.714286   60.000000   \n",
       "\n",
       "        price_mad  \n",
       "671996        NaN  \n",
       "836336        NaN  \n",
       "701212        NaN  \n",
       "522264        NaN  \n",
       "339664        NaN  \n",
       "...           ...  \n",
       "619013  -0.568915  \n",
       "620839  -0.487414  \n",
       "622665   0.049046  \n",
       "598927   0.380671  \n",
       "912999   0.360190  \n",
       "\n",
       "[898940 rows x 8 columns]"
      ]
     },
     "execution_count": 175,
     "metadata": {},
     "output_type": "execute_result"
    }
   ],
   "source": [
    "df"
   ]
  },
  {
   "cell_type": "code",
   "execution_count": 176,
   "metadata": {},
   "outputs": [],
   "source": [
    "df.dropna(subset=[\"lag_28\",\"rmean_7\",\"rmean_28_7\",\"price_mad\"], inplace=True)\n"
   ]
  },
  {
   "cell_type": "code",
   "execution_count": null,
   "metadata": {},
   "outputs": [],
   "source": []
  },
  {
   "cell_type": "markdown",
   "metadata": {},
   "source": [
    "### <span style=\"color:DarkGray;\">  Train and test split  </span>\n",
    "\n",
    "#### Split sales data into the __train__ and __test__ datasets. "
   ]
  },
  {
   "cell_type": "code",
   "execution_count": 177,
   "metadata": {},
   "outputs": [],
   "source": [
    "split_date = \"2017-10-01\""
   ]
  },
  {
   "cell_type": "code",
   "execution_count": 178,
   "metadata": {},
   "outputs": [],
   "source": [
    "train = df.loc[sales.date < split_date].copy()\n",
    "test = df.loc[sales.date >= split_date].copy()"
   ]
  },
  {
   "cell_type": "code",
   "execution_count": 179,
   "metadata": {},
   "outputs": [
    {
     "name": "stdout",
     "output_type": "stream",
     "text": [
      "(852880, 8)\n",
      "(46000, 8)\n"
     ]
    }
   ],
   "source": [
    "print(train.shape)\n",
    "print(test.shape)"
   ]
  },
  {
   "cell_type": "code",
   "execution_count": 180,
   "metadata": {},
   "outputs": [
    {
     "data": {
      "text/html": [
       "<div>\n",
       "<style scoped>\n",
       "    .dataframe tbody tr th:only-of-type {\n",
       "        vertical-align: middle;\n",
       "    }\n",
       "\n",
       "    .dataframe tbody tr th {\n",
       "        vertical-align: top;\n",
       "    }\n",
       "\n",
       "    .dataframe thead th {\n",
       "        text-align: right;\n",
       "    }\n",
       "</style>\n",
       "<table border=\"1\" class=\"dataframe\">\n",
       "  <thead>\n",
       "    <tr style=\"text-align: right;\">\n",
       "      <th></th>\n",
       "      <th>date</th>\n",
       "      <th>store</th>\n",
       "      <th>item</th>\n",
       "      <th>sales</th>\n",
       "      <th>lag_28</th>\n",
       "      <th>rmean_7</th>\n",
       "      <th>rmean_28_7</th>\n",
       "      <th>price_mad</th>\n",
       "    </tr>\n",
       "  </thead>\n",
       "  <tbody>\n",
       "    <tr>\n",
       "      <th>10984</th>\n",
       "      <td>2013-01-29</td>\n",
       "      <td>7</td>\n",
       "      <td>1</td>\n",
       "      <td>9</td>\n",
       "      <td>7.0</td>\n",
       "      <td>10.428571</td>\n",
       "      <td>15.285714</td>\n",
       "      <td>-0.322581</td>\n",
       "    </tr>\n",
       "    <tr>\n",
       "      <th>613564</th>\n",
       "      <td>2013-01-29</td>\n",
       "      <td>7</td>\n",
       "      <td>34</td>\n",
       "      <td>10</td>\n",
       "      <td>9.0</td>\n",
       "      <td>8.857143</td>\n",
       "      <td>12.714286</td>\n",
       "      <td>-0.090909</td>\n",
       "    </tr>\n",
       "    <tr>\n",
       "      <th>116892</th>\n",
       "      <td>2013-01-29</td>\n",
       "      <td>5</td>\n",
       "      <td>7</td>\n",
       "      <td>29</td>\n",
       "      <td>21.0</td>\n",
       "      <td>26.857143</td>\n",
       "      <td>17.714286</td>\n",
       "      <td>0.268750</td>\n",
       "    </tr>\n",
       "    <tr>\n",
       "      <th>412704</th>\n",
       "      <td>2013-01-29</td>\n",
       "      <td>7</td>\n",
       "      <td>23</td>\n",
       "      <td>11</td>\n",
       "      <td>7.0</td>\n",
       "      <td>11.428571</td>\n",
       "      <td>12.857143</td>\n",
       "      <td>0.069444</td>\n",
       "    </tr>\n",
       "    <tr>\n",
       "      <th>500352</th>\n",
       "      <td>2013-01-29</td>\n",
       "      <td>5</td>\n",
       "      <td>28</td>\n",
       "      <td>25</td>\n",
       "      <td>41.0</td>\n",
       "      <td>34.571429</td>\n",
       "      <td>20.714286</td>\n",
       "      <td>0.080247</td>\n",
       "    </tr>\n",
       "    <tr>\n",
       "      <th>...</th>\n",
       "      <td>...</td>\n",
       "      <td>...</td>\n",
       "      <td>...</td>\n",
       "      <td>...</td>\n",
       "      <td>...</td>\n",
       "      <td>...</td>\n",
       "      <td>...</td>\n",
       "      <td>...</td>\n",
       "    </tr>\n",
       "    <tr>\n",
       "      <th>447277</th>\n",
       "      <td>2017-09-30</td>\n",
       "      <td>5</td>\n",
       "      <td>25</td>\n",
       "      <td>102</td>\n",
       "      <td>81.0</td>\n",
       "      <td>76.571429</td>\n",
       "      <td>64.714286</td>\n",
       "      <td>0.626424</td>\n",
       "    </tr>\n",
       "    <tr>\n",
       "      <th>445451</th>\n",
       "      <td>2017-09-30</td>\n",
       "      <td>4</td>\n",
       "      <td>25</td>\n",
       "      <td>103</td>\n",
       "      <td>102.0</td>\n",
       "      <td>100.285714</td>\n",
       "      <td>86.000000</td>\n",
       "      <td>0.155449</td>\n",
       "    </tr>\n",
       "    <tr>\n",
       "      <th>138683</th>\n",
       "      <td>2017-09-30</td>\n",
       "      <td>6</td>\n",
       "      <td>8</td>\n",
       "      <td>74</td>\n",
       "      <td>92.0</td>\n",
       "      <td>69.285714</td>\n",
       "      <td>56.142857</td>\n",
       "      <td>0.407609</td>\n",
       "    </tr>\n",
       "    <tr>\n",
       "      <th>496579</th>\n",
       "      <td>2017-09-30</td>\n",
       "      <td>2</td>\n",
       "      <td>28</td>\n",
       "      <td>171</td>\n",
       "      <td>152.0</td>\n",
       "      <td>144.000000</td>\n",
       "      <td>95.714286</td>\n",
       "      <td>0.802711</td>\n",
       "    </tr>\n",
       "    <tr>\n",
       "      <th>217201</th>\n",
       "      <td>2017-09-30</td>\n",
       "      <td>9</td>\n",
       "      <td>12</td>\n",
       "      <td>107</td>\n",
       "      <td>111.0</td>\n",
       "      <td>92.285714</td>\n",
       "      <td>69.142857</td>\n",
       "      <td>0.576842</td>\n",
       "    </tr>\n",
       "  </tbody>\n",
       "</table>\n",
       "<p>852880 rows × 8 columns</p>\n",
       "</div>"
      ],
      "text/plain": [
       "             date  store  item  sales  lag_28     rmean_7  rmean_28_7  \\\n",
       "10984  2013-01-29      7     1      9     7.0   10.428571   15.285714   \n",
       "613564 2013-01-29      7    34     10     9.0    8.857143   12.714286   \n",
       "116892 2013-01-29      5     7     29    21.0   26.857143   17.714286   \n",
       "412704 2013-01-29      7    23     11     7.0   11.428571   12.857143   \n",
       "500352 2013-01-29      5    28     25    41.0   34.571429   20.714286   \n",
       "...           ...    ...   ...    ...     ...         ...         ...   \n",
       "447277 2017-09-30      5    25    102    81.0   76.571429   64.714286   \n",
       "445451 2017-09-30      4    25    103   102.0  100.285714   86.000000   \n",
       "138683 2017-09-30      6     8     74    92.0   69.285714   56.142857   \n",
       "496579 2017-09-30      2    28    171   152.0  144.000000   95.714286   \n",
       "217201 2017-09-30      9    12    107   111.0   92.285714   69.142857   \n",
       "\n",
       "        price_mad  \n",
       "10984   -0.322581  \n",
       "613564  -0.090909  \n",
       "116892   0.268750  \n",
       "412704   0.069444  \n",
       "500352   0.080247  \n",
       "...           ...  \n",
       "447277   0.626424  \n",
       "445451   0.155449  \n",
       "138683   0.407609  \n",
       "496579   0.802711  \n",
       "217201   0.576842  \n",
       "\n",
       "[852880 rows x 8 columns]"
      ]
     },
     "execution_count": 180,
     "metadata": {},
     "output_type": "execute_result"
    }
   ],
   "source": [
    "train"
   ]
  },
  {
   "cell_type": "code",
   "execution_count": 181,
   "metadata": {},
   "outputs": [
    {
     "data": {
      "text/html": [
       "<div>\n",
       "<style scoped>\n",
       "    .dataframe tbody tr th:only-of-type {\n",
       "        vertical-align: middle;\n",
       "    }\n",
       "\n",
       "    .dataframe tbody tr th {\n",
       "        vertical-align: top;\n",
       "    }\n",
       "\n",
       "    .dataframe thead th {\n",
       "        text-align: right;\n",
       "    }\n",
       "</style>\n",
       "<table border=\"1\" class=\"dataframe\">\n",
       "  <thead>\n",
       "    <tr style=\"text-align: right;\">\n",
       "      <th></th>\n",
       "      <th>date</th>\n",
       "      <th>store</th>\n",
       "      <th>item</th>\n",
       "      <th>sales</th>\n",
       "      <th>lag_28</th>\n",
       "      <th>rmean_7</th>\n",
       "      <th>rmean_28_7</th>\n",
       "      <th>price_mad</th>\n",
       "    </tr>\n",
       "  </thead>\n",
       "  <tbody>\n",
       "    <tr>\n",
       "      <th>414410</th>\n",
       "      <td>2017-10-01</td>\n",
       "      <td>7</td>\n",
       "      <td>23</td>\n",
       "      <td>27</td>\n",
       "      <td>34.0</td>\n",
       "      <td>25.000000</td>\n",
       "      <td>46.857143</td>\n",
       "      <td>-0.442478</td>\n",
       "    </tr>\n",
       "    <tr>\n",
       "      <th>290242</th>\n",
       "      <td>2017-10-01</td>\n",
       "      <td>9</td>\n",
       "      <td>16</td>\n",
       "      <td>35</td>\n",
       "      <td>21.0</td>\n",
       "      <td>30.285714</td>\n",
       "      <td>63.285714</td>\n",
       "      <td>-0.439359</td>\n",
       "    </tr>\n",
       "    <tr>\n",
       "      <th>315806</th>\n",
       "      <td>2017-10-01</td>\n",
       "      <td>3</td>\n",
       "      <td>18</td>\n",
       "      <td>118</td>\n",
       "      <td>127.0</td>\n",
       "      <td>109.285714</td>\n",
       "      <td>83.857143</td>\n",
       "      <td>0.390572</td>\n",
       "    </tr>\n",
       "    <tr>\n",
       "      <th>726656</th>\n",
       "      <td>2017-10-01</td>\n",
       "      <td>8</td>\n",
       "      <td>40</td>\n",
       "      <td>48</td>\n",
       "      <td>51.0</td>\n",
       "      <td>44.571429</td>\n",
       "      <td>84.428571</td>\n",
       "      <td>-0.362429</td>\n",
       "    </tr>\n",
       "    <tr>\n",
       "      <th>478320</th>\n",
       "      <td>2017-10-01</td>\n",
       "      <td>2</td>\n",
       "      <td>27</td>\n",
       "      <td>37</td>\n",
       "      <td>48.0</td>\n",
       "      <td>33.428571</td>\n",
       "      <td>83.857143</td>\n",
       "      <td>-0.551127</td>\n",
       "    </tr>\n",
       "    <tr>\n",
       "      <th>...</th>\n",
       "      <td>...</td>\n",
       "      <td>...</td>\n",
       "      <td>...</td>\n",
       "      <td>...</td>\n",
       "      <td>...</td>\n",
       "      <td>...</td>\n",
       "      <td>...</td>\n",
       "      <td>...</td>\n",
       "    </tr>\n",
       "    <tr>\n",
       "      <th>619013</th>\n",
       "      <td>2017-12-31</td>\n",
       "      <td>9</td>\n",
       "      <td>34</td>\n",
       "      <td>21</td>\n",
       "      <td>32.0</td>\n",
       "      <td>20.714286</td>\n",
       "      <td>56.571429</td>\n",
       "      <td>-0.568915</td>\n",
       "    </tr>\n",
       "    <tr>\n",
       "      <th>620839</th>\n",
       "      <td>2017-12-31</td>\n",
       "      <td>10</td>\n",
       "      <td>34</td>\n",
       "      <td>32</td>\n",
       "      <td>28.0</td>\n",
       "      <td>23.571429</td>\n",
       "      <td>64.428571</td>\n",
       "      <td>-0.487414</td>\n",
       "    </tr>\n",
       "    <tr>\n",
       "      <th>622665</th>\n",
       "      <td>2017-12-31</td>\n",
       "      <td>1</td>\n",
       "      <td>35</td>\n",
       "      <td>55</td>\n",
       "      <td>55.0</td>\n",
       "      <td>52.285714</td>\n",
       "      <td>51.142857</td>\n",
       "      <td>0.049046</td>\n",
       "    </tr>\n",
       "    <tr>\n",
       "      <th>598927</th>\n",
       "      <td>2017-12-31</td>\n",
       "      <td>8</td>\n",
       "      <td>33</td>\n",
       "      <td>100</td>\n",
       "      <td>95.0</td>\n",
       "      <td>69.142857</td>\n",
       "      <td>71.571429</td>\n",
       "      <td>0.380671</td>\n",
       "    </tr>\n",
       "    <tr>\n",
       "      <th>912999</th>\n",
       "      <td>2017-12-31</td>\n",
       "      <td>10</td>\n",
       "      <td>50</td>\n",
       "      <td>82</td>\n",
       "      <td>75.0</td>\n",
       "      <td>61.714286</td>\n",
       "      <td>60.000000</td>\n",
       "      <td>0.360190</td>\n",
       "    </tr>\n",
       "  </tbody>\n",
       "</table>\n",
       "<p>46000 rows × 8 columns</p>\n",
       "</div>"
      ],
      "text/plain": [
       "             date  store  item  sales  lag_28     rmean_7  rmean_28_7  \\\n",
       "414410 2017-10-01      7    23     27    34.0   25.000000   46.857143   \n",
       "290242 2017-10-01      9    16     35    21.0   30.285714   63.285714   \n",
       "315806 2017-10-01      3    18    118   127.0  109.285714   83.857143   \n",
       "726656 2017-10-01      8    40     48    51.0   44.571429   84.428571   \n",
       "478320 2017-10-01      2    27     37    48.0   33.428571   83.857143   \n",
       "...           ...    ...   ...    ...     ...         ...         ...   \n",
       "619013 2017-12-31      9    34     21    32.0   20.714286   56.571429   \n",
       "620839 2017-12-31     10    34     32    28.0   23.571429   64.428571   \n",
       "622665 2017-12-31      1    35     55    55.0   52.285714   51.142857   \n",
       "598927 2017-12-31      8    33    100    95.0   69.142857   71.571429   \n",
       "912999 2017-12-31     10    50     82    75.0   61.714286   60.000000   \n",
       "\n",
       "        price_mad  \n",
       "414410  -0.442478  \n",
       "290242  -0.439359  \n",
       "315806   0.390572  \n",
       "726656  -0.362429  \n",
       "478320  -0.551127  \n",
       "...           ...  \n",
       "619013  -0.568915  \n",
       "620839  -0.487414  \n",
       "622665   0.049046  \n",
       "598927   0.380671  \n",
       "912999   0.360190  \n",
       "\n",
       "[46000 rows x 8 columns]"
      ]
     },
     "execution_count": 181,
     "metadata": {},
     "output_type": "execute_result"
    }
   ],
   "source": [
    "test"
   ]
  },
  {
   "cell_type": "markdown",
   "metadata": {},
   "source": [
    "#### Create input (`x`) and output (`y`) variables\n",
    "Note: use __sales__ as the output column."
   ]
  },
  {
   "cell_type": "code",
   "execution_count": 182,
   "metadata": {},
   "outputs": [],
   "source": [
    "x_train = train.drop(columns=[\"sales\",\"date\"])\n",
    "y_train = train[\"sales\"]\n",
    "x_test = test.drop(columns=[\"sales\",\"date\"])\n",
    "y_test = test[\"sales\"]"
   ]
  },
  {
   "cell_type": "code",
   "execution_count": 183,
   "metadata": {},
   "outputs": [
    {
     "name": "stdout",
     "output_type": "stream",
     "text": [
      "(852880, 6) (852880,)\n",
      "(46000, 6) (46000,)\n"
     ]
    }
   ],
   "source": [
    "print(x_train.shape, y_train.shape)\n",
    "print(x_test.shape, y_test.shape)"
   ]
  },
  {
   "cell_type": "code",
   "execution_count": 184,
   "metadata": {},
   "outputs": [
    {
     "data": {
      "text/html": [
       "<div>\n",
       "<style scoped>\n",
       "    .dataframe tbody tr th:only-of-type {\n",
       "        vertical-align: middle;\n",
       "    }\n",
       "\n",
       "    .dataframe tbody tr th {\n",
       "        vertical-align: top;\n",
       "    }\n",
       "\n",
       "    .dataframe thead th {\n",
       "        text-align: right;\n",
       "    }\n",
       "</style>\n",
       "<table border=\"1\" class=\"dataframe\">\n",
       "  <thead>\n",
       "    <tr style=\"text-align: right;\">\n",
       "      <th></th>\n",
       "      <th>store</th>\n",
       "      <th>item</th>\n",
       "      <th>lag_28</th>\n",
       "      <th>rmean_7</th>\n",
       "      <th>rmean_28_7</th>\n",
       "      <th>price_mad</th>\n",
       "    </tr>\n",
       "  </thead>\n",
       "  <tbody>\n",
       "    <tr>\n",
       "      <th>10984</th>\n",
       "      <td>7</td>\n",
       "      <td>1</td>\n",
       "      <td>7.0</td>\n",
       "      <td>10.428571</td>\n",
       "      <td>15.285714</td>\n",
       "      <td>-0.322581</td>\n",
       "    </tr>\n",
       "    <tr>\n",
       "      <th>613564</th>\n",
       "      <td>7</td>\n",
       "      <td>34</td>\n",
       "      <td>9.0</td>\n",
       "      <td>8.857143</td>\n",
       "      <td>12.714286</td>\n",
       "      <td>-0.090909</td>\n",
       "    </tr>\n",
       "    <tr>\n",
       "      <th>116892</th>\n",
       "      <td>5</td>\n",
       "      <td>7</td>\n",
       "      <td>21.0</td>\n",
       "      <td>26.857143</td>\n",
       "      <td>17.714286</td>\n",
       "      <td>0.268750</td>\n",
       "    </tr>\n",
       "    <tr>\n",
       "      <th>412704</th>\n",
       "      <td>7</td>\n",
       "      <td>23</td>\n",
       "      <td>7.0</td>\n",
       "      <td>11.428571</td>\n",
       "      <td>12.857143</td>\n",
       "      <td>0.069444</td>\n",
       "    </tr>\n",
       "    <tr>\n",
       "      <th>500352</th>\n",
       "      <td>5</td>\n",
       "      <td>28</td>\n",
       "      <td>41.0</td>\n",
       "      <td>34.571429</td>\n",
       "      <td>20.714286</td>\n",
       "      <td>0.080247</td>\n",
       "    </tr>\n",
       "    <tr>\n",
       "      <th>...</th>\n",
       "      <td>...</td>\n",
       "      <td>...</td>\n",
       "      <td>...</td>\n",
       "      <td>...</td>\n",
       "      <td>...</td>\n",
       "      <td>...</td>\n",
       "    </tr>\n",
       "    <tr>\n",
       "      <th>447277</th>\n",
       "      <td>5</td>\n",
       "      <td>25</td>\n",
       "      <td>81.0</td>\n",
       "      <td>76.571429</td>\n",
       "      <td>64.714286</td>\n",
       "      <td>0.626424</td>\n",
       "    </tr>\n",
       "    <tr>\n",
       "      <th>445451</th>\n",
       "      <td>4</td>\n",
       "      <td>25</td>\n",
       "      <td>102.0</td>\n",
       "      <td>100.285714</td>\n",
       "      <td>86.000000</td>\n",
       "      <td>0.155449</td>\n",
       "    </tr>\n",
       "    <tr>\n",
       "      <th>138683</th>\n",
       "      <td>6</td>\n",
       "      <td>8</td>\n",
       "      <td>92.0</td>\n",
       "      <td>69.285714</td>\n",
       "      <td>56.142857</td>\n",
       "      <td>0.407609</td>\n",
       "    </tr>\n",
       "    <tr>\n",
       "      <th>496579</th>\n",
       "      <td>2</td>\n",
       "      <td>28</td>\n",
       "      <td>152.0</td>\n",
       "      <td>144.000000</td>\n",
       "      <td>95.714286</td>\n",
       "      <td>0.802711</td>\n",
       "    </tr>\n",
       "    <tr>\n",
       "      <th>217201</th>\n",
       "      <td>9</td>\n",
       "      <td>12</td>\n",
       "      <td>111.0</td>\n",
       "      <td>92.285714</td>\n",
       "      <td>69.142857</td>\n",
       "      <td>0.576842</td>\n",
       "    </tr>\n",
       "  </tbody>\n",
       "</table>\n",
       "<p>852880 rows × 6 columns</p>\n",
       "</div>"
      ],
      "text/plain": [
       "        store  item  lag_28     rmean_7  rmean_28_7  price_mad\n",
       "10984       7     1     7.0   10.428571   15.285714  -0.322581\n",
       "613564      7    34     9.0    8.857143   12.714286  -0.090909\n",
       "116892      5     7    21.0   26.857143   17.714286   0.268750\n",
       "412704      7    23     7.0   11.428571   12.857143   0.069444\n",
       "500352      5    28    41.0   34.571429   20.714286   0.080247\n",
       "...       ...   ...     ...         ...         ...        ...\n",
       "447277      5    25    81.0   76.571429   64.714286   0.626424\n",
       "445451      4    25   102.0  100.285714   86.000000   0.155449\n",
       "138683      6     8    92.0   69.285714   56.142857   0.407609\n",
       "496579      2    28   152.0  144.000000   95.714286   0.802711\n",
       "217201      9    12   111.0   92.285714   69.142857   0.576842\n",
       "\n",
       "[852880 rows x 6 columns]"
      ]
     },
     "execution_count": 184,
     "metadata": {},
     "output_type": "execute_result"
    }
   ],
   "source": [
    "x_train"
   ]
  },
  {
   "cell_type": "code",
   "execution_count": 185,
   "metadata": {},
   "outputs": [
    {
     "data": {
      "text/plain": [
       "store         0.0\n",
       "item          0.0\n",
       "lag_28        0.0\n",
       "rmean_7       0.0\n",
       "rmean_28_7    0.0\n",
       "price_mad     0.0\n",
       "dtype: float64"
      ]
     },
     "execution_count": 185,
     "metadata": {},
     "output_type": "execute_result"
    }
   ],
   "source": [
    "x_train.isnull().sum()/len(x_train)"
   ]
  },
  {
   "cell_type": "code",
   "execution_count": 186,
   "metadata": {},
   "outputs": [
    {
     "data": {
      "text/html": [
       "<div>\n",
       "<style scoped>\n",
       "    .dataframe tbody tr th:only-of-type {\n",
       "        vertical-align: middle;\n",
       "    }\n",
       "\n",
       "    .dataframe tbody tr th {\n",
       "        vertical-align: top;\n",
       "    }\n",
       "\n",
       "    .dataframe thead th {\n",
       "        text-align: right;\n",
       "    }\n",
       "</style>\n",
       "<table border=\"1\" class=\"dataframe\">\n",
       "  <thead>\n",
       "    <tr style=\"text-align: right;\">\n",
       "      <th></th>\n",
       "      <th>store</th>\n",
       "      <th>item</th>\n",
       "      <th>lag_28</th>\n",
       "      <th>rmean_7</th>\n",
       "      <th>rmean_28_7</th>\n",
       "      <th>price_mad</th>\n",
       "    </tr>\n",
       "  </thead>\n",
       "  <tbody>\n",
       "    <tr>\n",
       "      <th>414410</th>\n",
       "      <td>7</td>\n",
       "      <td>23</td>\n",
       "      <td>34.0</td>\n",
       "      <td>25.000000</td>\n",
       "      <td>46.857143</td>\n",
       "      <td>-0.442478</td>\n",
       "    </tr>\n",
       "    <tr>\n",
       "      <th>290242</th>\n",
       "      <td>9</td>\n",
       "      <td>16</td>\n",
       "      <td>21.0</td>\n",
       "      <td>30.285714</td>\n",
       "      <td>63.285714</td>\n",
       "      <td>-0.439359</td>\n",
       "    </tr>\n",
       "    <tr>\n",
       "      <th>315806</th>\n",
       "      <td>3</td>\n",
       "      <td>18</td>\n",
       "      <td>127.0</td>\n",
       "      <td>109.285714</td>\n",
       "      <td>83.857143</td>\n",
       "      <td>0.390572</td>\n",
       "    </tr>\n",
       "    <tr>\n",
       "      <th>726656</th>\n",
       "      <td>8</td>\n",
       "      <td>40</td>\n",
       "      <td>51.0</td>\n",
       "      <td>44.571429</td>\n",
       "      <td>84.428571</td>\n",
       "      <td>-0.362429</td>\n",
       "    </tr>\n",
       "    <tr>\n",
       "      <th>478320</th>\n",
       "      <td>2</td>\n",
       "      <td>27</td>\n",
       "      <td>48.0</td>\n",
       "      <td>33.428571</td>\n",
       "      <td>83.857143</td>\n",
       "      <td>-0.551127</td>\n",
       "    </tr>\n",
       "    <tr>\n",
       "      <th>...</th>\n",
       "      <td>...</td>\n",
       "      <td>...</td>\n",
       "      <td>...</td>\n",
       "      <td>...</td>\n",
       "      <td>...</td>\n",
       "      <td>...</td>\n",
       "    </tr>\n",
       "    <tr>\n",
       "      <th>619013</th>\n",
       "      <td>9</td>\n",
       "      <td>34</td>\n",
       "      <td>32.0</td>\n",
       "      <td>20.714286</td>\n",
       "      <td>56.571429</td>\n",
       "      <td>-0.568915</td>\n",
       "    </tr>\n",
       "    <tr>\n",
       "      <th>620839</th>\n",
       "      <td>10</td>\n",
       "      <td>34</td>\n",
       "      <td>28.0</td>\n",
       "      <td>23.571429</td>\n",
       "      <td>64.428571</td>\n",
       "      <td>-0.487414</td>\n",
       "    </tr>\n",
       "    <tr>\n",
       "      <th>622665</th>\n",
       "      <td>1</td>\n",
       "      <td>35</td>\n",
       "      <td>55.0</td>\n",
       "      <td>52.285714</td>\n",
       "      <td>51.142857</td>\n",
       "      <td>0.049046</td>\n",
       "    </tr>\n",
       "    <tr>\n",
       "      <th>598927</th>\n",
       "      <td>8</td>\n",
       "      <td>33</td>\n",
       "      <td>95.0</td>\n",
       "      <td>69.142857</td>\n",
       "      <td>71.571429</td>\n",
       "      <td>0.380671</td>\n",
       "    </tr>\n",
       "    <tr>\n",
       "      <th>912999</th>\n",
       "      <td>10</td>\n",
       "      <td>50</td>\n",
       "      <td>75.0</td>\n",
       "      <td>61.714286</td>\n",
       "      <td>60.000000</td>\n",
       "      <td>0.360190</td>\n",
       "    </tr>\n",
       "  </tbody>\n",
       "</table>\n",
       "<p>46000 rows × 6 columns</p>\n",
       "</div>"
      ],
      "text/plain": [
       "        store  item  lag_28     rmean_7  rmean_28_7  price_mad\n",
       "414410      7    23    34.0   25.000000   46.857143  -0.442478\n",
       "290242      9    16    21.0   30.285714   63.285714  -0.439359\n",
       "315806      3    18   127.0  109.285714   83.857143   0.390572\n",
       "726656      8    40    51.0   44.571429   84.428571  -0.362429\n",
       "478320      2    27    48.0   33.428571   83.857143  -0.551127\n",
       "...       ...   ...     ...         ...         ...        ...\n",
       "619013      9    34    32.0   20.714286   56.571429  -0.568915\n",
       "620839     10    34    28.0   23.571429   64.428571  -0.487414\n",
       "622665      1    35    55.0   52.285714   51.142857   0.049046\n",
       "598927      8    33    95.0   69.142857   71.571429   0.380671\n",
       "912999     10    50    75.0   61.714286   60.000000   0.360190\n",
       "\n",
       "[46000 rows x 6 columns]"
      ]
     },
     "execution_count": 186,
     "metadata": {},
     "output_type": "execute_result"
    }
   ],
   "source": [
    "x_test"
   ]
  },
  {
   "cell_type": "markdown",
   "metadata": {},
   "source": [
    "### <span style=\"color:DarkGray;\"> Model training and validation </span>\n",
    "\n",
    "#### Train a  model on the train and validate your model on the test dataset (report your SMAPE score)"
   ]
  },
  {
   "cell_type": "code",
   "execution_count": 187,
   "metadata": {},
   "outputs": [],
   "source": [
    "def smape(A, F):\n",
    "    return 100/len(A) * np.sum(2 * np.abs(F - A) / (np.abs(A) + np.abs(F)))"
   ]
  },
  {
   "cell_type": "markdown",
   "metadata": {},
   "source": [
    "#### Linear Regression model"
   ]
  },
  {
   "cell_type": "code",
   "execution_count": 188,
   "metadata": {},
   "outputs": [
    {
     "name": "stdout",
     "output_type": "stream",
     "text": [
      "LR SMAPE: 14.550300142270384\n",
      "CPU times: user 238 ms, sys: 39.9 ms, total: 278 ms\n",
      "Wall time: 138 ms\n"
     ]
    }
   ],
   "source": [
    "%%time\n",
    "from sklearn.linear_model import LinearRegression\n",
    "\n",
    "# Fitting the model on train\n",
    "model = LinearRegression()\n",
    "model.fit(x_train, y_train)\n",
    "\n",
    "# Predicting the outputs for test\n",
    "y_pred = model.predict(x_test)\n",
    "\n",
    "# Evaluating with SMAPE\n",
    "print(f\"LR SMAPE: {smape(np.c_[y_test],np.c_[y_pred])}\")"
   ]
  },
  {
   "cell_type": "markdown",
   "metadata": {},
   "source": [
    "#### Your model"
   ]
  },
  {
   "cell_type": "code",
   "execution_count": 140,
   "metadata": {},
   "outputs": [
    {
     "name": "stdout",
     "output_type": "stream",
     "text": [
      "Collecting xgboost\n",
      "  Downloading xgboost-1.7.3-py3-none-macosx_10_15_x86_64.macosx_11_0_x86_64.macosx_12_0_x86_64.whl (1.8 MB)\n",
      "\u001b[K     |████████████████████████████████| 1.8 MB 7.3 MB/s eta 0:00:01\n",
      "\u001b[?25hRequirement already satisfied: scipy in /Users/trishakumar/opt/anaconda3/lib/python3.9/site-packages (from xgboost) (1.7.3)\n",
      "Requirement already satisfied: numpy in /Users/trishakumar/opt/anaconda3/lib/python3.9/site-packages (from xgboost) (1.21.5)\n",
      "Installing collected packages: xgboost\n",
      "Successfully installed xgboost-1.7.3\n",
      "Note: you may need to restart the kernel to use updated packages.\n"
     ]
    }
   ],
   "source": [
    "pip install xgboost"
   ]
  },
  {
   "cell_type": "code",
   "execution_count": 160,
   "metadata": {},
   "outputs": [],
   "source": [
    "from sklearn.metrics import mean_squared_error\n",
    "results = pd.DataFrame(columns=[\"MSE\"])"
   ]
  },
  {
   "cell_type": "code",
   "execution_count": 197,
   "metadata": {},
   "outputs": [
    {
     "data": {
      "image/png": "[encoded data removed]",
      "text/plain": [
       "<Figure size 432x288 with 1 Axes>"
      ]
     },
     "metadata": {},
     "output_type": "display_data"
    },
    {
     "name": "stdout",
     "output_type": "stream",
     "text": [
      "LR SMAPE: 11.034405221659705\n",
      "CPU times: user 30min 11s, sys: 26.8 s, total: 30min 37s\n",
      "Wall time: 4min 10s\n"
     ]
    }
   ],
   "source": [
    "%%time\n",
    "import xgboost as xgb\n",
    "\n",
    "# Fitting the model on train\n",
    "model = xgb.XGBRegressor(objective ='reg:squarederror',n_estimators= 1300)\n",
    "model.fit(x_train, y_train)\n",
    "\n",
    "# Predicting the outputs for test\n",
    "y_pred = model.predict(x_test)\n",
    "\n",
    "# Some visuals\n",
    "plt.plot(y_test.values[0:20], label = \"Real sales\");\n",
    "plt.plot(y_pred[0:20], label = \"Predicted\");\n",
    "plt.legend(); plt.show();\n",
    "\n",
    "# Evaluating with MSE\n",
    "results.loc['XGBoost'] = mean_squared_error(y_test, y_pred)\n",
    "results.head()\n",
    "\n",
    "# Evaluating with SMAPE\n",
    "print(f\"LR SMAPE: {smape(np.c_[y_test],np.c_[y_pred])}\")"
   ]
  },
  {
   "cell_type": "code",
   "execution_count": null,
   "metadata": {},
   "outputs": [],
   "source": [
    "results.head()"
   ]
  },
  {
   "cell_type": "code",
   "execution_count": 164,
   "metadata": {},
   "outputs": [
    {
     "name": "stdout",
     "output_type": "stream",
     "text": [
      "Collecting lightgbm\n",
      "  Downloading lightgbm-3.3.5-py3-none-macosx_10_15_x86_64.macosx_11_6_x86_64.macosx_12_0_x86_64.whl (1.3 MB)\n",
      "\u001b[K     |████████████████████████████████| 1.3 MB 8.4 MB/s eta 0:00:01\n",
      "\u001b[?25hRequirement already satisfied: scipy in /Users/trishakumar/opt/anaconda3/lib/python3.9/site-packages (from lightgbm) (1.7.3)\n",
      "Requirement already satisfied: scikit-learn!=0.22.0 in /Users/trishakumar/opt/anaconda3/lib/python3.9/site-packages (from lightgbm) (1.0.2)\n",
      "Requirement already satisfied: wheel in /Users/trishakumar/opt/anaconda3/lib/python3.9/site-packages (from lightgbm) (0.37.1)\n",
      "Requirement already satisfied: numpy in /Users/trishakumar/opt/anaconda3/lib/python3.9/site-packages (from lightgbm) (1.21.5)\n",
      "Requirement already satisfied: threadpoolctl>=2.0.0 in /Users/trishakumar/opt/anaconda3/lib/python3.9/site-packages (from scikit-learn!=0.22.0->lightgbm) (2.2.0)\n",
      "Requirement already satisfied: joblib>=0.11 in /Users/trishakumar/opt/anaconda3/lib/python3.9/site-packages (from scikit-learn!=0.22.0->lightgbm) (1.1.0)\n",
      "Installing collected packages: lightgbm\n",
      "Successfully installed lightgbm-3.3.5\n",
      "Note: you may need to restart the kernel to use updated packages.\n"
     ]
    }
   ],
   "source": [
    "pip install lightgbm"
   ]
  },
  {
   "cell_type": "code",
   "execution_count": 169,
   "metadata": {},
   "outputs": [
    {
     "name": "stdout",
     "output_type": "stream",
     "text": [
      "Collecting catboost\n",
      "  Downloading catboost-1.1.1-cp39-none-macosx_10_6_universal2.whl (22.0 MB)\n",
      "\u001b[K     |████████████████████████████████| 22.0 MB 190 kB/s eta 0:00:011\n",
      "\u001b[?25hRequirement already satisfied: scipy in /Users/trishakumar/opt/anaconda3/lib/python3.9/site-packages (from catboost) (1.7.3)\n",
      "Requirement already satisfied: graphviz in /Users/trishakumar/opt/anaconda3/lib/python3.9/site-packages (from catboost) (0.20.1)\n",
      "Requirement already satisfied: matplotlib in /Users/trishakumar/opt/anaconda3/lib/python3.9/site-packages (from catboost) (3.5.1)\n",
      "Requirement already satisfied: six in /Users/trishakumar/opt/anaconda3/lib/python3.9/site-packages (from catboost) (1.16.0)\n",
      "Requirement already satisfied: numpy>=1.16.0 in /Users/trishakumar/opt/anaconda3/lib/python3.9/site-packages (from catboost) (1.21.5)\n",
      "Requirement already satisfied: plotly in /Users/trishakumar/opt/anaconda3/lib/python3.9/site-packages (from catboost) (5.6.0)\n",
      "Requirement already satisfied: pandas>=0.24.0 in /Users/trishakumar/opt/anaconda3/lib/python3.9/site-packages (from catboost) (1.4.2)\n",
      "Requirement already satisfied: python-dateutil>=2.8.1 in /Users/trishakumar/opt/anaconda3/lib/python3.9/site-packages (from pandas>=0.24.0->catboost) (2.8.2)\n",
      "Requirement already satisfied: pytz>=2020.1 in /Users/trishakumar/opt/anaconda3/lib/python3.9/site-packages (from pandas>=0.24.0->catboost) (2021.3)\n",
      "Requirement already satisfied: cycler>=0.10 in /Users/trishakumar/opt/anaconda3/lib/python3.9/site-packages (from matplotlib->catboost) (0.11.0)\n",
      "Requirement already satisfied: pyparsing>=2.2.1 in /Users/trishakumar/opt/anaconda3/lib/python3.9/site-packages (from matplotlib->catboost) (3.0.4)\n",
      "Requirement already satisfied: fonttools>=4.22.0 in /Users/trishakumar/opt/anaconda3/lib/python3.9/site-packages (from matplotlib->catboost) (4.25.0)\n",
      "Requirement already satisfied: packaging>=20.0 in /Users/trishakumar/opt/anaconda3/lib/python3.9/site-packages (from matplotlib->catboost) (21.3)\n",
      "Requirement already satisfied: pillow>=6.2.0 in /Users/trishakumar/opt/anaconda3/lib/python3.9/site-packages (from matplotlib->catboost) (9.0.1)\n",
      "Requirement already satisfied: kiwisolver>=1.0.1 in /Users/trishakumar/opt/anaconda3/lib/python3.9/site-packages (from matplotlib->catboost) (1.3.2)\n",
      "Requirement already satisfied: tenacity>=6.2.0 in /Users/trishakumar/opt/anaconda3/lib/python3.9/site-packages (from plotly->catboost) (8.0.1)\n",
      "Installing collected packages: catboost\n",
      "Successfully installed catboost-1.1.1\n",
      "Note: you may need to restart the kernel to use updated packages.\n"
     ]
    }
   ],
   "source": [
    "pip install catboost"
   ]
  },
  {
   "cell_type": "code",
   "execution_count": 191,
   "metadata": {},
   "outputs": [
    {
     "data": {
      "image/png": "[encoded data removed]",
      "text/plain": [
       "<Figure size 432x288 with 1 Axes>"
      ]
     },
     "metadata": {},
     "output_type": "display_data"
    },
    {
     "name": "stdout",
     "output_type": "stream",
     "text": [
      "CatBoost SMAPE: 11.296642626260425\n"
     ]
    }
   ],
   "source": [
    "import catboost as cb\n",
    "\n",
    "# Initializing the model\n",
    "model = cb.CatBoostRegressor()\n",
    "\n",
    "# Fitting the model on the training data\n",
    "model.fit(x_train, y_train, verbose=False)\n",
    "\n",
    "# Predicting the outputs for test data\n",
    "y_pred = model.predict(x_test)\n",
    "\n",
    "# Visualizing the predictions\n",
    "plt.plot(y_test.values[0:20], label = \"Real sales\")\n",
    "plt.plot(y_pred[0:20], label = \"Predicted\")\n",
    "plt.legend()\n",
    "plt.show()\n",
    "\n",
    "# Evaluating the model with MSE\n",
    "results.loc['CatBoost'] = mean_squared_error(y_test, y_pred)\n",
    "results.head()\n",
    "\n",
    "# Evaluating the model with SMAPE\n",
    "print(f\"CatBoost SMAPE: {smape(np.c_[y_test], np.c_[y_pred])}\")\n"
   ]
  },
  {
   "cell_type": "code",
   "execution_count": 193,
   "metadata": {},
   "outputs": [
    {
     "data": {
      "image/png": "[encoded data removed]",
      "text/plain": [
       "<Figure size 432x288 with 1 Axes>"
      ]
     },
     "metadata": {},
     "output_type": "display_data"
    },
    {
     "name": "stdout",
     "output_type": "stream",
     "text": [
      "CPU times: user 39.8 s, sys: 508 ms, total: 40.3 s\n",
      "Wall time: 40.7 s\n"
     ]
    },
    {
     "data": {
      "text/html": [
       "<div>\n",
       "<style scoped>\n",
       "    .dataframe tbody tr th:only-of-type {\n",
       "        vertical-align: middle;\n",
       "    }\n",
       "\n",
       "    .dataframe tbody tr th {\n",
       "        vertical-align: top;\n",
       "    }\n",
       "\n",
       "    .dataframe thead th {\n",
       "        text-align: right;\n",
       "    }\n",
       "</style>\n",
       "<table border=\"1\" class=\"dataframe\">\n",
       "  <thead>\n",
       "    <tr style=\"text-align: right;\">\n",
       "      <th></th>\n",
       "      <th>MSE</th>\n",
       "    </tr>\n",
       "  </thead>\n",
       "  <tbody>\n",
       "    <tr>\n",
       "      <th>XGBoost</th>\n",
       "      <td>61.656200</td>\n",
       "    </tr>\n",
       "    <tr>\n",
       "      <th>CatBoost</th>\n",
       "      <td>62.064035</td>\n",
       "    </tr>\n",
       "    <tr>\n",
       "      <th>Random Forest</th>\n",
       "      <td>164.148015</td>\n",
       "    </tr>\n",
       "  </tbody>\n",
       "</table>\n",
       "</div>"
      ],
      "text/plain": [
       "                      MSE\n",
       "XGBoost         61.656200\n",
       "CatBoost        62.064035\n",
       "Random Forest  164.148015"
      ]
     },
     "execution_count": 193,
     "metadata": {},
     "output_type": "execute_result"
    }
   ],
   "source": [
    "%%time\n",
    "from sklearn.ensemble import RandomForestRegressor\n",
    "\n",
    "# Fitting the model on train\n",
    "model = RandomForestRegressor(max_depth=2, random_state=0)\n",
    "model.fit(x_train, y_train)\n",
    "\n",
    "# Predicting the outputs for test\n",
    "y_pred = model.predict(x_test)\n",
    "\n",
    "# Some visuals\n",
    "plt.plot(y_test.values[0:20], label = \"Real sales\");\n",
    "plt.plot(y_pred[0:20], label = \"Predicted\");\n",
    "plt.legend(); plt.show();\n",
    "\n",
    "# Evaluating with MSE\n",
    "results.loc['Random Forest'] = mean_squared_error(y_test, y_pred)\n",
    "results.head()"
   ]
  },
  {
   "cell_type": "markdown",
   "metadata": {},
   "source": [
    "---"
   ]
  },
  {
   "cell_type": "markdown",
   "metadata": {},
   "source": [
    "FINAL SCORE: \n",
    "MODEL:"
   ]
  }
 ],
 "metadata": {
  "kernelspec": {
   "display_name": "Python 3 (ipykernel)",
   "language": "python",
   "name": "python3"
  },
  "language_info": {
   "codemirror_mode": {
    "name": "ipython",
    "version": 3
   },
   "file_extension": ".py",
   "mimetype": "text/x-python",
   "name": "python",
   "nbconvert_exporter": "python",
   "pygments_lexer": "ipython3",
   "version": "3.9.12"
  }
 },
 "nbformat": 4,
 "nbformat_minor": 2
}
