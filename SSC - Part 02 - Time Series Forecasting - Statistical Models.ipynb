{
 "cells": [
  {
   "cell_type": "markdown",
   "metadata": {},
   "source": [
    "<div>\n",
    "    <img src=\"images/emlyon.png\" style=\"height:60px; float:left; padding-right:10px; margin-top:5px\" />\n",
    "    <span>\n",
    "        <h1 style=\"padding-bottom:5px;\"> Smart Supply Chain </h1>\n",
    "        <a href=\"https://masters.em-lyon.com/fr/msc-in-data-science-artificial-intelligence-strategy\">[Emlyon]</a> MSc in Data Science & Artificial Intelligence Strategy (DSAIS) <br/>\n",
    "         February 2023, Paris | © Saeed VARASTEH\n",
    "    </span>\n",
    "</div>"
   ]
  },
  {
   "cell_type": "markdown",
   "metadata": {},
   "source": [
    "### Part 02 : Time Series Forecasting | Statistical Models\n",
    "\n",
    "This lecture content will be about statistical models in time series forecasting.\n",
    "\n",
    "---"
   ]
  },
  {
   "cell_type": "markdown",
   "metadata": {},
   "source": [
    "### Import data and modules"
   ]
  },
  {
   "cell_type": "markdown",
   "metadata": {},
   "source": [
    "#### Import modules"
   ]
  },
  {
   "cell_type": "code",
   "execution_count": null,
   "metadata": {},
   "outputs": [],
   "source": [
    "import pandas as pd\n",
    "import numpy as np\n",
    "import matplotlib.pyplot as plt\n",
    "plt.style.use('fivethirtyeight')\n",
    "\n",
    "import warnings\n",
    "warnings.filterwarnings(\"ignore\")"
   ]
  },
  {
   "cell_type": "markdown",
   "metadata": {},
   "source": [
    "#### Import data"
   ]
  },
  {
   "cell_type": "code",
   "execution_count": null,
   "metadata": {},
   "outputs": [],
   "source": [
    "df = pd.read_csv('./data/international-airline-passengers.csv',header=None)\n",
    "df.columns = ['year','passengers']\n",
    "print(df.shape)\n",
    "df.head(5)"
   ]
  },
  {
   "cell_type": "markdown",
   "metadata": {},
   "source": [
    "#### Convert year column to datetime"
   ]
  },
  {
   "cell_type": "code",
   "execution_count": null,
   "metadata": {},
   "outputs": [],
   "source": [
    "df['year'] = pd.to_datetime(df['year'], format='%Y-%m')"
   ]
  },
  {
   "cell_type": "code",
   "execution_count": null,
   "metadata": {},
   "outputs": [],
   "source": [
    "df.head(5)"
   ]
  },
  {
   "cell_type": "markdown",
   "metadata": {},
   "source": [
    "#### Set year as index"
   ]
  },
  {
   "cell_type": "code",
   "execution_count": null,
   "metadata": {},
   "outputs": [],
   "source": [
    "df.set_index('year', inplace=True, drop=True)\n",
    "df.head(5)"
   ]
  },
  {
   "cell_type": "markdown",
   "metadata": {},
   "source": [
    "#### Set monthly frequency for `df`"
   ]
  },
  {
   "cell_type": "code",
   "execution_count": null,
   "metadata": {},
   "outputs": [],
   "source": [
    "df = df.asfreq('MS')\n",
    "df.head()"
   ]
  },
  {
   "cell_type": "markdown",
   "metadata": {},
   "source": [
    "---"
   ]
  },
  {
   "cell_type": "markdown",
   "metadata": {},
   "source": [
    "### Prepare our time series"
   ]
  },
  {
   "cell_type": "markdown",
   "metadata": {},
   "source": [
    "#### Making time series stationary"
   ]
  },
  {
   "cell_type": "code",
   "execution_count": null,
   "metadata": {},
   "outputs": [],
   "source": [
    "df_log = np.log(df)\n",
    "dfs = df_log - df_log.shift(1) \n",
    "dfs.dropna(inplace=True)\n",
    "\n",
    "df_old = df.copy()\n",
    "df = dfs\n",
    "df.head()"
   ]
  },
  {
   "cell_type": "markdown",
   "metadata": {},
   "source": [
    "#### Autocorrelation and Partial autocorrelation plots"
   ]
  },
  {
   "cell_type": "code",
   "execution_count": null,
   "metadata": {},
   "outputs": [],
   "source": [
    "from statsmodels.graphics.tsaplots import plot_acf,plot_pacf\n",
    "\n",
    "plot_acf(df, lags = 15)\n",
    "plot_pacf(df, lags = 15)\n",
    "plt.show()"
   ]
  },
  {
   "cell_type": "markdown",
   "metadata": {},
   "source": [
    "---"
   ]
  },
  {
   "cell_type": "markdown",
   "metadata": {},
   "source": [
    "### Time series forecasting\n",
    "\n",
    "There are many methods that we can use for time series forecasting and there is not a clear winner. Model selection should always depend on how you data look and what are you trying to achieve."
   ]
  },
  {
   "cell_type": "markdown",
   "metadata": {},
   "source": [
    "#### Split our dataset to be able to evaluate our models"
   ]
  },
  {
   "cell_type": "code",
   "execution_count": null,
   "metadata": {},
   "outputs": [],
   "source": [
    "split_date ='1959-01-01'\n",
    "df_train = df.loc[df.index < split_date]\n",
    "df_test = df.loc[df.index >= split_date]\n",
    "print(f\"{len(df_train)} months of training data and {len(df_test)} months of testing data \")"
   ]
  },
  {
   "cell_type": "code",
   "execution_count": null,
   "metadata": {},
   "outputs": [],
   "source": [
    "df_test.head()"
   ]
  },
  {
   "cell_type": "code",
   "execution_count": null,
   "metadata": {},
   "outputs": [],
   "source": [
    "fig, ax = plt.subplots(1,1,figsize=(15, 5))\n",
    "plt.plot(df_train, label=\"train\");\n",
    "plt.plot(df_test, label=\"test\", color=\"green\");\n",
    "plt.legend();"
   ]
  },
  {
   "cell_type": "markdown",
   "metadata": {},
   "source": [
    "### <span style=\"color:steelblue;\"> Naive forecast </span>"
   ]
  },
  {
   "cell_type": "code",
   "execution_count": null,
   "metadata": {},
   "outputs": [],
   "source": [
    "df_mean = df_train.passengers.mean()\n",
    "mean_forecast = np.array([df_mean for v in range(len(df_test))])\n",
    "mean_forecast_df = pd.DataFrame(data=mean_forecast, columns=df_test.columns, index=df_test.index)"
   ]
  },
  {
   "cell_type": "code",
   "execution_count": null,
   "metadata": {},
   "outputs": [],
   "source": [
    "def plot_forecast(forecast_df,method_name):\n",
    "    fig, ax = plt.subplots(1,1,figsize=(15, 5))\n",
    "    plt.plot(df_train, label=\"train\");\n",
    "    plt.plot(df_test, label=\"test\", color=\"green\");\n",
    "    plt.plot(forecast_df, label=method_name, color=\"red\", linestyle=\":\");\n",
    "    plt.legend();"
   ]
  },
  {
   "cell_type": "code",
   "execution_count": null,
   "metadata": {},
   "outputs": [],
   "source": [
    "plot_forecast(mean_forecast_df, \"Naive\")"
   ]
  },
  {
   "cell_type": "markdown",
   "metadata": {},
   "source": [
    "---"
   ]
  },
  {
   "cell_type": "markdown",
   "metadata": {},
   "source": [
    "### Forecast quality scoring metrics"
   ]
  },
  {
   "cell_type": "markdown",
   "metadata": {},
   "source": [
    "__Mean Squared Error (MSE)__, most commonly used, gives higher penalty to big mistakes and vise versa, [0, +inf).\n",
    "\n",
    "__Mean Absolute Error (MAE)__, it is an interpretable metric because it has the same unit of measurement as the initial series, [0, +inf).\n",
    "\n",
    "__Mean Absolute Percentage Error (MAPE)__, same as MAE but percentage, — very convenient when you want to explain the quality of the model to your management, [0, +inf).\n",
    "\n",
    "__R squared ($R^2$)__, coefficient of determination (it can be interpreted as a percentage of variance explained by the model), (-inf, 1]."
   ]
  },
  {
   "cell_type": "code",
   "execution_count": null,
   "metadata": {},
   "outputs": [],
   "source": [
    "from sklearn.metrics import mean_squared_error, mean_absolute_error, mean_absolute_percentage_error, r2_score"
   ]
  },
  {
   "cell_type": "code",
   "execution_count": null,
   "metadata": {},
   "outputs": [],
   "source": [
    "results_all_models = pd.DataFrame(columns=[\"MSE\",\"MAE\",\"MAPE\",\"R2\"])\n",
    "\n",
    "def evaluate_forecast(df_test, df_pred, method_name):\n",
    "    y = df_test.values\n",
    "    y_pred = df_pred.values\n",
    "    results = {}\n",
    "    results['MSE'] = mean_squared_error(y, y_pred)\n",
    "    results['MAE'] = mean_absolute_error(y, y_pred)\n",
    "    results['MAPE'] = mean_absolute_percentage_error(y, y_pred)\n",
    "    results['R2'] = r2_score(y, y_pred)\n",
    "    \n",
    "    results_df = pd.DataFrame(data=results, index=[method_name])\n",
    "    global results_all_models\n",
    "    results_all_models = results_all_models.append(results_df)\n",
    "    print( results_all_models.head(10) )"
   ]
  },
  {
   "cell_type": "code",
   "execution_count": null,
   "metadata": {},
   "outputs": [],
   "source": [
    "evaluate_forecast(df_test, mean_forecast_df, \"Naive\")"
   ]
  },
  {
   "cell_type": "markdown",
   "metadata": {},
   "source": [
    "---"
   ]
  },
  {
   "cell_type": "markdown",
   "metadata": {},
   "source": [
    "### <span style=\"color:steelblue;\"> Autoregression (AR) </span>\n",
    "\n",
    "The autoregression (AR) method models the next step in the sequence as a linear function of the observations at prior time steps. \n",
    "\n",
    "Parameters of the model:\n",
    "\n",
    "- __Number of AR (Auto-Regressive) terms (p):__ p is the parameter associated with the auto-regressive aspect of the model, which incorporates past values i.e lags of dependent variable. For instance if p is 5, the predictors for x(t) will be based on x(t-1)….x(t-5).\n"
   ]
  },
  {
   "cell_type": "code",
   "execution_count": null,
   "metadata": {},
   "outputs": [],
   "source": [
    "from statsmodels.tsa.arima_model import ARMA\n",
    "\n",
    "pred_ = list()\n",
    "for t in range(len(df_test.passengers)):\n",
    "    temp_train = df[:len(df_train)+t]\n",
    "    model = ARMA(temp_train.passengers, order=(1, 0)) # (AR order, MA order)\n",
    "    model_fit = model.fit(disp=False)\n",
    "    predictions = model_fit.predict(start=len(temp_train), end=len(temp_train), dynamic=False)\n",
    "    pred_ = pred_ + [predictions]\n",
    "    \n",
    "ar_forecast_df = pd.concat(pred_)"
   ]
  },
  {
   "cell_type": "code",
   "execution_count": null,
   "metadata": {},
   "outputs": [],
   "source": [
    "plot_forecast(ar_forecast_df, \"AR forecast\")"
   ]
  },
  {
   "cell_type": "code",
   "execution_count": null,
   "metadata": {},
   "outputs": [],
   "source": [
    "evaluate_forecast(df_test, ar_forecast_df, \"AR\")"
   ]
  },
  {
   "cell_type": "markdown",
   "metadata": {},
   "source": [
    "### <span style=\"color:steelblue;\"> Moving Average (MA) </span>\n",
    "\n",
    "The Moving Average (MA) method models the next step in the sequence as the average of a window of observations at prior time steps. \n",
    "\n",
    "Parameters of the model:\n",
    "\n",
    "- __Number of MA (Moving Average) terms (q):__ q is size of the moving average part window of the model i.e. lagged forecast errors in prediction equation. For instance if q is 5, the predictors for x(t) will be based on e(t-1)….e(t-5) where e(i) is the difference between the moving average at ith instant and actual value. \n"
   ]
  },
  {
   "cell_type": "code",
   "execution_count": null,
   "metadata": {},
   "outputs": [],
   "source": [
    "from statsmodels.tsa.arima_model import ARMA\n",
    "\n",
    "pred_ = list()\n",
    "for t in range(len(df_test.passengers)):\n",
    "    temp_train = df[:len(df_train)+t]\n",
    "    model = ARMA(temp_train.passengers, order=(0, 1))\n",
    "    model_fit = model.fit(disp=False)\n",
    "    predictions = model_fit.predict(start=len(temp_train), end=len(temp_train), dynamic=False)\n",
    "    pred_ = pred_ + [predictions]\n",
    "    \n",
    "ma_forecast_df = pd.concat(pred_)"
   ]
  },
  {
   "cell_type": "code",
   "execution_count": null,
   "metadata": {},
   "outputs": [],
   "source": [
    "plot_forecast(ma_forecast_df, \"MA forecast\")"
   ]
  },
  {
   "cell_type": "code",
   "execution_count": null,
   "metadata": {},
   "outputs": [],
   "source": [
    "evaluate_forecast(df_test, ma_forecast_df, \"MA\")"
   ]
  },
  {
   "cell_type": "markdown",
   "metadata": {},
   "source": [
    "### <span style=\"color:steelblue;\"> Autoregressive Moving Average (ARMA) </span>\n",
    "\n",
    "This method will basically join the previous two `AR` and `MA`. Model parameters will be the sum of the two.\n",
    "\n",
    "Parameters of the model:\n",
    "\n",
    "- __Number of AR (Auto-Regressive) terms (p)__ \n",
    "- __Number of MA (Moving Average) terms (q)__ "
   ]
  },
  {
   "cell_type": "code",
   "execution_count": null,
   "metadata": {},
   "outputs": [],
   "source": [
    "from statsmodels.tsa.arima_model import ARMA\n",
    "\n",
    "pred_ = list()\n",
    "for t in range(len(df_test.passengers)):\n",
    "    temp_train = df[:len(df_train)+t]\n",
    "    model = ARMA(temp_train.passengers, order=(1, 1))\n",
    "    model_fit = model.fit(disp=False)\n",
    "    predictions = model_fit.predict(start=len(temp_train), end=len(temp_train), dynamic=False)\n",
    "    pred_ = pred_ + [predictions]\n",
    "    \n",
    "arma_forecast_df = pd.concat(pred_)"
   ]
  },
  {
   "cell_type": "code",
   "execution_count": null,
   "metadata": {},
   "outputs": [],
   "source": [
    "plot_forecast(arma_forecast_df, \"ARMA forecast\")"
   ]
  },
  {
   "cell_type": "code",
   "execution_count": null,
   "metadata": {},
   "outputs": [],
   "source": [
    "evaluate_forecast(df_test, arma_forecast_df, \"ARMA\")"
   ]
  },
  {
   "cell_type": "markdown",
   "metadata": {},
   "source": [
    "### <span style=\"color:steelblue;\">  Autoregressive integrated Moving Average (ARIMA)  </span>\n",
    "\n",
    "In an ARIMA model there are 3 parameters that are used to help model the major aspects of a times series: seasonality, trend, and noise. \n",
    "\n",
    "These parameters are labeled p,d,and q:\n",
    "\n",
    "* __Number of AR (Auto-Regressive) terms (p)__\n",
    "\n",
    "* __Number of Differences (d):__ d is the parameter associated with the integrated part of the model, which effects the amount of differencing to apply to a time series.\n",
    "\n",
    "* __Number of MA (Moving Average) terms (q)__"
   ]
  },
  {
   "cell_type": "markdown",
   "metadata": {},
   "source": [
    "<div class=\"alert-warning\">\n",
    "Note: A problem with ARIMA is that it does not support seasonal data. That is a time series with a repeating cycle. ARIMA expects data that is either not seasonal or has the seasonal component removed, e.g. seasonally adjusted via methods such as seasonal differencing.\n",
    "</div>"
   ]
  },
  {
   "cell_type": "code",
   "execution_count": null,
   "metadata": {},
   "outputs": [],
   "source": [
    "from statsmodels.tsa.arima_model import ARIMA\n",
    "\n",
    "pred_ = list()\n",
    "for t in range(len(df_test.passengers)):\n",
    "    temp_train = df[:len(df_train)+t]\n",
    "    model = ARIMA(temp_train.passengers, order=(1, 0, 1))\n",
    "    model_fit = model.fit(disp=False)\n",
    "    predictions = model_fit.predict(start=len(temp_train), end=len(temp_train), dynamic=False)\n",
    "    pred_ = pred_ + [predictions]\n",
    "    \n",
    "arima_forecast_df = pd.concat(pred_)"
   ]
  },
  {
   "cell_type": "code",
   "execution_count": null,
   "metadata": {},
   "outputs": [],
   "source": [
    "plot_forecast(arima_forecast_df, \"ARIMA forecast\")"
   ]
  },
  {
   "cell_type": "code",
   "execution_count": null,
   "metadata": {},
   "outputs": [],
   "source": [
    "evaluate_forecast(df_test, arima_forecast_df, \"ARIMA\")"
   ]
  },
  {
   "cell_type": "markdown",
   "metadata": {},
   "source": [
    "### <span style=\"color:steelblue;\">  Seasonal Autoregressive Integrated Moving-Average (SARIMA)  </span>\n",
    "\n",
    "Seasonal Autoregressive Integrated Moving Average, SARIMA or Seasonal ARIMA, is an extension of ARIMA that explicitly supports univariate time series data with a seasonal component.\n",
    "\n",
    "It adds three new hyperparameters to specify the autoregression (AR), differencing (I) and moving average (MA) for the seasonal component of the series, as well as an additional parameter for the period of the seasonality.\n",
    "\n",
    "__Trend Elements:__\n",
    "\n",
    "There are three trend elements that require configuration. They are the same as the ARIMA model, specifically:\n",
    "\n",
    "- p: Trend autoregression order.\n",
    "- d: Trend difference order.\n",
    "- q: Trend moving average order.\n",
    "\n",
    "__Seasonal Elements:__\n",
    "\n",
    "There are four seasonal elements that are not part of ARIMA that must be configured; they are:\n",
    "\n",
    "- P: Seasonal autoregressive order.\n",
    "- D: Seasonal difference order.\n",
    "- Q: Seasonal moving average order.\n",
    "- m: The number of time steps for a single seasonal period. For example, an S of 12 for monthly data suggests a yearly seasonal cycle."
   ]
  },
  {
   "cell_type": "code",
   "execution_count": null,
   "metadata": {},
   "outputs": [],
   "source": [
    "from statsmodels.tsa.statespace.sarimax import SARIMAX\n",
    "\n",
    "pred_ = list()\n",
    "for t in range(len(df_test.passengers)):\n",
    "    temp_train = df[:len(df_train)+t]\n",
    "    model = SARIMAX(temp_train.passengers, order=(1, 0, 1), seasonal_order=(1, 1, 1, 12))\n",
    "    model_fit = model.fit(disp=False)\n",
    "    predictions = model_fit.predict(start=len(temp_train), end=len(temp_train), dynamic=False)\n",
    "    pred_ = pred_ + [predictions]\n",
    "    \n",
    "sarima_forecast_df = pd.concat(pred_)"
   ]
  },
  {
   "cell_type": "code",
   "execution_count": null,
   "metadata": {},
   "outputs": [],
   "source": [
    "plot_forecast(sarima_forecast_df, \"SARIMA forecast\")"
   ]
  },
  {
   "cell_type": "code",
   "execution_count": null,
   "metadata": {},
   "outputs": [],
   "source": [
    "evaluate_forecast(df_test, sarima_forecast_df, \"SARIMA\")"
   ]
  },
  {
   "cell_type": "markdown",
   "metadata": {},
   "source": [
    "---"
   ]
  },
  {
   "cell_type": "markdown",
   "metadata": {},
   "source": [
    "<div class=\"alert-danger\">\n",
    "To test the Exponential Smoothing methods, we come back to the original series.\n",
    "</div>"
   ]
  },
  {
   "cell_type": "code",
   "execution_count": null,
   "metadata": {},
   "outputs": [],
   "source": [
    "df = df_old\n",
    "df_train = df.loc[df.index < split_date]\n",
    "df_test = df.loc[df.index >= split_date]\n",
    "print(f\"{len(df_train)} months of training data and {len(df_test)} months of testing data \")"
   ]
  },
  {
   "cell_type": "markdown",
   "metadata": {},
   "source": [
    "---"
   ]
  },
  {
   "cell_type": "markdown",
   "metadata": {},
   "source": [
    "### <span style=\"color:steelblue;\">  Simple Exponential Smoothing (SES) </span>\n",
    "\n",
    "The Simple Exponential Smoothing (SES) method models the next time step as an exponentially weighted linear function of observations at prior time steps. This method expects our time series to be stationary in order to perform adecuately (no trend or seasonality)."
   ]
  },
  {
   "cell_type": "code",
   "execution_count": null,
   "metadata": {},
   "outputs": [],
   "source": [
    "from statsmodels.tsa.holtwinters import SimpleExpSmoothing\n",
    "\n",
    "pred_ = list()\n",
    "for t in range(len(df_test.passengers)):\n",
    "    temp_train = df[:len(df_train)+t]\n",
    "    model = SimpleExpSmoothing(temp_train.passengers)\n",
    "    model_fit = model.fit()\n",
    "    predictions = model_fit.predict(start=len(temp_train), end=len(temp_train))\n",
    "    pred_ = pred_ + [predictions]\n",
    "    \n",
    "ses_forecast_df = pd.concat(pred_)"
   ]
  },
  {
   "cell_type": "code",
   "execution_count": null,
   "metadata": {},
   "outputs": [],
   "source": [
    "plot_forecast(ses_forecast_df, \"SES forecast\")"
   ]
  },
  {
   "cell_type": "code",
   "execution_count": null,
   "metadata": {},
   "outputs": [],
   "source": [
    "evaluate_forecast(df_test, ses_forecast_df, \"SES\")"
   ]
  },
  {
   "cell_type": "markdown",
   "metadata": {},
   "source": [
    "### <span style=\"color:steelblue;\">  Holt Winter’s Exponential Smoothing (HWES) </span>\n",
    "\n",
    "HWES also known as triple exponential smoothing."
   ]
  },
  {
   "cell_type": "code",
   "execution_count": null,
   "metadata": {},
   "outputs": [],
   "source": [
    "from statsmodels.tsa.holtwinters import ExponentialSmoothing\n",
    "\n",
    "pred_ = list()\n",
    "for t in range(len(df_test.passengers)):\n",
    "    temp_train = df[:len(df_train)+t]\n",
    "    model = ExponentialSmoothing(temp_train.passengers, seasonal_periods = 12, trend='additive', seasonal='additive')\n",
    "    model_fit = model.fit(optimized=True)\n",
    "    predictions = model_fit.predict(start=len(temp_train), end=len(temp_train))\n",
    "    pred_ = pred_ + [predictions]\n",
    "    \n",
    "hwes_forecast_df = pd.concat(pred_)"
   ]
  },
  {
   "cell_type": "code",
   "execution_count": null,
   "metadata": {},
   "outputs": [],
   "source": [
    "plot_forecast(hwes_forecast_df, \"HWES forecast\")"
   ]
  },
  {
   "cell_type": "code",
   "execution_count": null,
   "metadata": {},
   "outputs": [],
   "source": [
    "evaluate_forecast(df_test, hwes_forecast_df, \"HWES\")"
   ]
  },
  {
   "cell_type": "markdown",
   "metadata": {},
   "source": [
    "---"
   ]
  },
  {
   "cell_type": "markdown",
   "metadata": {},
   "source": [
    "<div class=\"alert-info\" style=\"background-color:#ece4f5;\">\n",
    "    <span style=\"font-weight:bold; color:#8966b0;\">\n",
    "        <h4 style=\"padding-top:4px; padding-bottom:4px\"> EXERCISES 01 - TRY IT YOURSELF </h4>\n",
    "    </span>\n",
    "</div>"
   ]
  },
  {
   "cell_type": "markdown",
   "metadata": {},
   "source": [
    "---"
   ]
  },
  {
   "cell_type": "code",
   "execution_count": null,
   "metadata": {},
   "outputs": [],
   "source": []
  }
 ],
 "metadata": {
  "kernelspec": {
   "display_name": "Python 3 (ipykernel)",
   "language": "python",
   "name": "python3"
  },
  "language_info": {
   "codemirror_mode": {
    "name": "ipython",
    "version": 3
   },
   "file_extension": ".py",
   "mimetype": "text/x-python",
   "name": "python",
   "nbconvert_exporter": "python",
   "pygments_lexer": "ipython3",
   "version": "3.9.12"
  }
 },
 "nbformat": 4,
 "nbformat_minor": 2
}
